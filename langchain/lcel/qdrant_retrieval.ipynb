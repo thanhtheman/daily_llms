{
 "cells": [
  {
   "cell_type": "code",
   "execution_count": 12,
   "metadata": {},
   "outputs": [],
   "source": [
    "from langchain.vectorstores import Qdrant\n",
    "from langchain.embeddings import OpenAIEmbeddings\n",
    "from langchain.text_splitter import HTMLHeaderTextSplitter, RecursiveCharacterTextSplitter"
   ]
  },
  {
   "cell_type": "code",
   "execution_count": 13,
   "metadata": {},
   "outputs": [],
   "source": [
    "def pretty_print_docs(docs):\n",
    "    print(f\"\\n{'-' * 100}\\n\".join([f\"Document {i+1}:\\n\\n\" + d.page_content for i, d in enumerate(docs)]))\n",
    "\n",
    "with open('./custom_embedding/data/Toronto.txt', 'r') as f:\n",
    "    html_toronto = f.read()\n",
    "with open('./custom_embedding/data/San_Francisco.txt', 'r') as f:\n",
    "    html_sf = f.read()\n",
    "headers_to_split_on = [\n",
    "    (\"h1\", \"Header 1\"),\n",
    "    (\"h2\", \"Header 2\"),\n",
    "    (\"h3\", \"Header 3\"),\n",
    "]\n",
    "html_splitter = HTMLHeaderTextSplitter(headers_to_split_on=headers_to_split_on)\n",
    "toronto_header_splits = html_splitter.split_text(html_toronto)\n",
    "sf_header_splits = html_splitter.split_text(html_sf)\n",
    "\n",
    "toronto_header_splits[0].metadata = {\"Header2\": \"Overview\", \"Header 3\": \"population\"}\n",
    "sf_header_splits[0].metadata = {\"Header2\": \"Overview\", \"Header 3\": \"population\"}\n",
    "total_headers = toronto_header_splits + sf_header_splits"
   ]
  },
  {
   "cell_type": "code",
   "execution_count": 14,
   "metadata": {},
   "outputs": [
    {
     "data": {
      "text/plain": [
       "258"
      ]
     },
     "execution_count": 14,
     "metadata": {},
     "output_type": "execute_result"
    }
   ],
   "source": [
    "text_splitter = RecursiveCharacterTextSplitter(chunk_size=1000, chunk_overlap=0)\n",
    "texts = text_splitter.split_documents(total_headers)\n",
    "len(texts)"
   ]
  },
  {
   "cell_type": "code",
   "execution_count": null,
   "metadata": {},
   "outputs": [],
   "source": [
    "embeddings = OpenAIEmbeddings()\n",
    "qdrant = Qdrant.from_documents(\n",
    "    texts,\n",
    "    embeddings,\n",
    "    path=\"./local_qdrant_storage\",  # Local mode with on-disk storage\n",
    "    collection_name=\"toronto_sf\"\n",
    ")"
   ]
  },
  {
   "cell_type": "code",
   "execution_count": 16,
   "metadata": {},
   "outputs": [],
   "source": [
    "retriever = qdrant.as_retriever(search_kwargs={\"k\":4})"
   ]
  },
  {
   "cell_type": "code",
   "execution_count": 17,
   "metadata": {},
   "outputs": [],
   "source": [
    "from langchain.callbacks import get_openai_callback\n",
    "from langchain.prompts import PromptTemplate\n",
    "from operator import itemgetter\n",
    "from langchain.schema import StrOutputParser\n",
    "from langchain.retrievers import ContextualCompressionRetriever\n",
    "from langchain.retrievers.document_compressors import LLMChainExtractor\n",
    "from langchain.chat_models import ChatOpenAI\n",
    "\n",
    "llm = ChatOpenAI(model=\"gpt-3.5-turbo\", temperature=0)\n",
    "compressor = LLMChainExtractor.from_llm(llm)\n",
    "compression_retriever = ContextualCompressionRetriever(base_compressor=compressor, base_retriever=retriever)\n",
    "\n",
    "template = \"\"\"given the below context:\n",
    "{context} \n",
    "please answer the question: {question}\n",
    "\"\"\"\n",
    "prompt = PromptTemplate.from_template(template=template)\n",
    "\n",
    "chain = {\"context\": itemgetter(\"question\") | compression_retriever, \"question\": itemgetter(\"question\")}| prompt | llm | StrOutputParser()\n",
    "\n",
    "def pretty_print_docs(docs):\n",
    "    print(f\"\\n{'-' * 100}\\n\".join([f\"Document {i+1}:\\n\\n\" + d.page_content for i, d in enumerate(docs)]))"
   ]
  },
  {
   "cell_type": "code",
   "execution_count": 10,
   "metadata": {},
   "outputs": [
    {
     "name": "stderr",
     "output_type": "stream",
     "text": [
      "/opt/homebrew/Caskroom/miniconda/base/envs/llms/lib/python3.11/site-packages/langchain/chains/llm.py:280: UserWarning: The predict_and_parse method is deprecated, instead pass an output parser directly to LLMChain.\n",
      "  warnings.warn(\n",
      "/opt/homebrew/Caskroom/miniconda/base/envs/llms/lib/python3.11/site-packages/langchain/chains/llm.py:280: UserWarning: The predict_and_parse method is deprecated, instead pass an output parser directly to LLMChain.\n",
      "  warnings.warn(\n",
      "/opt/homebrew/Caskroom/miniconda/base/envs/llms/lib/python3.11/site-packages/langchain/chains/llm.py:280: UserWarning: The predict_and_parse method is deprecated, instead pass an output parser directly to LLMChain.\n",
      "  warnings.warn(\n",
      "/opt/homebrew/Caskroom/miniconda/base/envs/llms/lib/python3.11/site-packages/langchain/chains/llm.py:280: UserWarning: The predict_and_parse method is deprecated, instead pass an output parser directly to LLMChain.\n",
      "  warnings.warn(\n"
     ]
    },
    {
     "name": "stdout",
     "output_type": "stream",
     "text": [
      "The population of Toronto is 2,794,356.\n",
      "\n",
      "Here is the cost breakdown for this call:\n",
      "Tokens Used: 1776\n",
      "\tPrompt Tokens: 1564\n",
      "\tCompletion Tokens: 212\n",
      "Successful Requests: 5\n",
      "Total Cost (USD): $0.0027700000000000003\n"
     ]
    }
   ],
   "source": [
    "with get_openai_callback() as callback:\n",
    "    response = chain.invoke({\"question\": \"what is the population of Toronto?\"})\n",
    "    print(response)\n",
    "    print(f\"\\nHere is the cost breakdown for this call:\\n{callback}\")"
   ]
  },
  {
   "cell_type": "code",
   "execution_count": 9,
   "metadata": {},
   "outputs": [
    {
     "name": "stdout",
     "output_type": "stream",
     "text": [
      "Document 1:\n",
      "\n",
      "The 2020 United States census showed San Francisco's population to be 873,965, an increase of 8.5% from the 2010 census. With roughly one-quarter the population density of Manhattan, San Francisco is the second-most densely populated large American city, behind only New York City among cities greater than 200,000 population, and the fifth-most densely populated U.S. county, following only four of the five New York City boroughs.  \n",
      "San Francisco is part of the five-county San Francisco–Oakland–Hayward, CA Metropolitan Statistical Area, a region of 4.7 million people (13th most populous in the U.S.), and has served as its traditional demographic focal point. It is also part of the greater 14-county San Jose-San Francisco-Oakland, CA Combined Statistical Area, whose population is over 9.6 million, making it the fifth-largest in the United States as of 2018.\n",
      "----------------------------------------------------------------------------------------------------\n",
      "Document 2:\n",
      "\n",
      "The 2020 United States census showed San Francisco's population to be 873,965, an increase of 8.5% from the 2010 census. With roughly one-quarter the population density of Manhattan, San Francisco is the second-most densely populated large American city, behind only New York City among cities greater than 200,000 population, and the fifth-most densely populated U.S. county, following only four of the five New York City boroughs.  \n",
      "San Francisco is part of the five-county San Francisco–Oakland–Hayward, CA Metropolitan Statistical Area, a region of 4.7 million people (13th most populous in the U.S.), and has served as its traditional demographic focal point. It is also part of the greater 14-county San Jose-San Francisco-Oakland, CA Combined Statistical Area, whose population is over 9.6 million, making it the fifth-largest in the United States as of 2018.\n",
      "----------------------------------------------------------------------------------------------------\n",
      "Document 3:\n",
      "\n",
      "There are 345,811 households in the city, out of which: 133,366 households (39%) were individuals, 109,437 (32%) were opposite-sex married couples, 63,577 (18%) had children under the age of 18 living in them, 21,677 (6%) were unmarried opposite-sex partnerships, and 10,384 (3%) were same-sex married couples or partnerships. The average household size was 2.26; the average family size was 3.11. 452,986 people (56%) lived in rental housing units, and 327,985 people (41%) lived in owner-occupied housing units. The median age of the city population is 38 years.  \n",
      "San Francisco declared itself a sanctuary city in 1989, and city officials strengthened the stance in 2013 with its 'Due Process for All' ordinance. The law declared local authorities could not hold immigrants for immigration offenses if they had no violent felonies on their records and did not currently face charges.\" The city issues a Resident ID Card regardless of the applicant's immigration status.\n",
      "----------------------------------------------------------------------------------------------------\n",
      "Document 4:\n",
      "\n",
      "There are 345,811 households in the city, out of which: 133,366 households (39%) were individuals, 109,437 (32%) were opposite-sex married couples, 63,577 (18%) had children under the age of 18 living in them, 21,677 (6%) were unmarried opposite-sex partnerships, and 10,384 (3%) were same-sex married couples or partnerships. The average household size was 2.26; the average family size was 3.11. 452,986 people (56%) lived in rental housing units, and 327,985 people (41%) lived in owner-occupied housing units. The median age of the city population is 38 years.  \n",
      "San Francisco declared itself a sanctuary city in 1989, and city officials strengthened the stance in 2013 with its 'Due Process for All' ordinance. The law declared local authorities could not hold immigrants for immigration offenses if they had no violent felonies on their records and did not currently face charges.\" The city issues a Resident ID Card regardless of the applicant's immigration status.\n",
      "----------------------------------------------------------------------------------------------------\n",
      "Document 5:\n",
      "\n",
      "San Francisco has several prominent Chinese, Mexican, and Filipino neighborhoods including Chinatown and the Mission District. Research collected on the immigrant clusters in the city show that more than half of the Asian population in San Francisco is either Chinese-born (40.3%) or Philippine-born (13.1%), and of the Mexican population 21% were Mexican-born, meaning these are people who recently immigrated to the United States. Between the years of 1990 and 2000, the number of foreign-born residents increased from 33% to nearly 40%. During this same time period, the San Francisco metropolitan area received 850,000 immigrants, ranking third in the United States after Los Angeles and New York.\n",
      "----------------------------------------------------------------------------------------------------\n",
      "Document 6:\n",
      "\n",
      "San Francisco has several prominent Chinese, Mexican, and Filipino neighborhoods including Chinatown and the Mission District. Research collected on the immigrant clusters in the city show that more than half of the Asian population in San Francisco is either Chinese-born (40.3%) or Philippine-born (13.1%), and of the Mexican population 21% were Mexican-born, meaning these are people who recently immigrated to the United States. Between the years of 1990 and 2000, the number of foreign-born residents increased from 33% to nearly 40%. During this same time period, the San Francisco metropolitan area received 850,000 immigrants, ranking third in the United States after Los Angeles and New York.\n"
     ]
    }
   ],
   "source": [
    "query = \"compare the population of San Francisco to Toronto\"\n",
    "found_docs = qdrant.similarity_search(query, k=6)\n",
    "pretty_print_docs(found_docs)"
   ]
  },
  {
   "cell_type": "code",
   "execution_count": null,
   "metadata": {},
   "outputs": [],
   "source": [
    "compressed_docs = compression_retriever.get_relevant_documents(\"compare the population of Toronto to San Francisco.\")\n",
    "pretty_print_docs(compressed_docs)"
   ]
  },
  {
   "cell_type": "code",
   "execution_count": 20,
   "metadata": {},
   "outputs": [
    {
     "name": "stdout",
     "output_type": "stream",
     "text": [
      "Document 1:\n",
      "\n",
      "The city's foreign-born persons made up 47 per cent of the population, compared to 49.9 per cent in 2006. According to the United Nations Development Programme, Toronto has the second-highest percentage of constant foreign-born population among world cities, after Miami, Florida. While Miami's foreign-born population has traditionally consisted primarily of Cubans and other Latin Americans, no single nationality or culture dominates Toronto's immigrant population, placing it among the most diverse cities in the world. In 2010, it was estimated over 100,000 immigrants arrive in the Greater Toronto Area each year.\n",
      "----------------------------------------------------------------------------------------------------\n",
      "Document 2:\n",
      "\n",
      "Toronto is a large hub of the Canadian and global technology industry, generating $52 billion in revenues annually. In 2017, Toronto tech firms offered almost 30,000 jobs which is higher than the combination of San Francisco Bay area, Seattle and Washington, D.C. The area bound between the Greater Toronto Area, the region of Waterloo and the city of Hamilton was termed a \"digital corridor\" by the Branham Group, a region highly concentrated with technology companies and jobs similar to Silicon Valley in California. It is the third largest center for information and communications technology in North America, coming in behind New York City and Silicon Valley, with over 168,000 people and 15,000 companies working in the Toronto technology sector alone. Toronto is also home to a large startup ecosystem. In 2013, the city was ranked as the 8th best startup scene in the world and 3rd when it came to performance and support.\n",
      "----------------------------------------------------------------------------------------------------\n",
      "Document 3:\n",
      "\n",
      "Toronto is the most populous city in Canada and the capital city of the Canadian province of Ontario. With a recorded population of 2,794,356 in 2021, it is the fourth-most populous city in North America. The city is the anchor of the Golden Horseshoe, an urban agglomeration of 9,765,188 people (as of 2021) surrounding the western end of Lake Ontario, while the Greater Toronto Area proper had a 2021 population of 6,712,341. Toronto is an international centre of business, finance, arts, sports and culture, and is recognized as one of the most multicultural and cosmopolitan cities in the world.\n",
      "----------------------------------------------------------------------------------------------------\n",
      "Document 4:\n",
      "\n",
      "In the decades after World War II, refugees from war-torn Europe and Chinese job-seekers arrived, as well as construction labourers, particularly from Italy and Portugal. Toronto's population grew to more than one million in 1951 when large-scale suburbanization began and doubled to two million by 1971. Following the elimination of racially based immigration policies by the late 1960s, Toronto became a destination for immigrants from all parts of the world. By the 1980s, Toronto had surpassed Montreal as Canada's most populous city and chief economic hub. During this time, in part owing to the political uncertainty raised by the resurgence of the Quebec sovereignty movement, many national and multinational corporations moved their head offices from Montreal to Toronto and Western Canadian cities.\n",
      "----------------------------------------------------------------------------------------------------\n",
      "Document 5:\n",
      "\n",
      "The city continues to grow and attract immigrants. A 2019 study by Toronto Metropolitan University (then known as Ryerson University) showed that Toronto was the fastest-growing city in North America. The city added 77,435 people between July 2017 and July 2018. The Toronto metropolitan area was the second-fastest-growing metropolitan area in North America, adding 125,298 persons, compared with 131,767 in the Dallas–Fort Worth–Arlington metroplex in Texas. The large growth in the Toronto metropolitan area is attributed to international migration to Toronto.  \n",
      "The COVID-19 pandemic in Canada first occurred in Toronto and is among the hotspots in the country.\n",
      "----------------------------------------------------------------------------------------------------\n",
      "Document 6:\n",
      "\n",
      "The city's foreign-born persons made up 47 per cent of the population, compared to 49.9 per cent in 2006. According to the United Nations Development Programme, Toronto has the second-highest percentage of constant foreign-born population among world cities, after Miami, Florida. While Miami's foreign-born population has traditionally consisted primarily of Cubans and other Latin Americans, no single nationality or culture dominates Toronto's immigrant population, placing it among the most diverse cities in the world. In 2010, it was estimated over 100,000 immigrants arrive in the Greater Toronto Area each year.\n"
     ]
    }
   ],
   "source": [
    "# this one doesn't help either.\n",
    "query = \"compare the population of Toronto and San Francisco\"\n",
    "found_docs = qdrant.max_marginal_relevance_search(query, k=6, fetch_k=10)\n",
    "pretty_print_docs(found_docs)"
   ]
  },
  {
   "cell_type": "code",
   "execution_count": null,
   "metadata": {},
   "outputs": [],
   "source": []
  }
 ],
 "metadata": {
  "kernelspec": {
   "display_name": "llms",
   "language": "python",
   "name": "python3"
  },
  "language_info": {
   "codemirror_mode": {
    "name": "ipython",
    "version": 3
   },
   "file_extension": ".py",
   "mimetype": "text/x-python",
   "name": "python",
   "nbconvert_exporter": "python",
   "pygments_lexer": "ipython3",
   "version": "3.11.5"
  }
 },
 "nbformat": 4,
 "nbformat_minor": 2
}
