{
 "cells": [
  {
   "cell_type": "code",
   "execution_count": 1,
   "metadata": {},
   "outputs": [],
   "source": [
    "from langchain.vectorstores import Qdrant\n",
    "from langchain.embeddings import OpenAIEmbeddings\n",
    "from langchain.text_splitter import HTMLHeaderTextSplitter, RecursiveCharacterTextSplitter\n",
    "from langchain.callbacks import get_openai_callback\n",
    "from langchain.prompts import PromptTemplate\n",
    "from operator import itemgetter\n",
    "from langchain.schema import StrOutputParser\n",
    "from langchain.chat_models import ChatOpenAI\n",
    "from langchain.output_parsers.openai_functions import JsonOutputFunctionsParser"
   ]
  },
  {
   "cell_type": "code",
   "execution_count": 3,
   "metadata": {},
   "outputs": [],
   "source": [
    "def pretty_print_docs(docs):\n",
    "    print(f\"\\n{'-' * 100}\\n\".join([f\"Document {i+1}:\\n\\n\" + d.page_content for i, d in enumerate(docs)]))\n",
    "\n",
    "with open('./custom_embedding/data/Toronto.txt', 'r') as f:\n",
    "    html_toronto = f.read()\n",
    "with open('./custom_embedding/data/San_Francisco.txt', 'r') as f:\n",
    "    html_sf = f.read()\n",
    "headers_to_split_on = [\n",
    "    (\"h1\", \"Header 1\"),\n",
    "    (\"h2\", \"Header 2\"),\n",
    "    (\"h3\", \"Header 3\"),\n",
    "]\n",
    "html_splitter = HTMLHeaderTextSplitter(headers_to_split_on=headers_to_split_on)\n",
    "toronto_header_splits = html_splitter.split_text(html_toronto)\n",
    "sf_header_splits = html_splitter.split_text(html_sf)\n",
    "\n",
    "toronto_header_splits[0].metadata = {\"Header2\": \"Overview\", \"Header 3\": \"population\"}\n",
    "sf_header_splits[0].metadata = {\"Header2\": \"Overview\", \"Header 3\": \"population\"}\n",
    "total_headers = toronto_header_splits + sf_header_splits\n",
    "\n",
    "text_splitter = RecursiveCharacterTextSplitter(chunk_size=1000, chunk_overlap=0)\n",
    "texts = text_splitter.split_documents(total_headers)\n"
   ]
  },
  {
   "cell_type": "code",
   "execution_count": 4,
   "metadata": {},
   "outputs": [
    {
     "ename": "TypeError",
     "evalue": "VectorStore.from_documents() missing 2 required positional arguments: 'documents' and 'embedding'",
     "output_type": "error",
     "traceback": [
      "\u001b[0;31m---------------------------------------------------------------------------\u001b[0m",
      "\u001b[0;31mTypeError\u001b[0m                                 Traceback (most recent call last)",
      "\u001b[1;32m/Users/thanhquach/projects/llms/langchain/lcel/compare_decompose.ipynb Cell 3\u001b[0m line \u001b[0;36m2\n\u001b[1;32m      <a href='vscode-notebook-cell:/Users/thanhquach/projects/llms/langchain/lcel/compare_decompose.ipynb#W2sZmlsZQ%3D%3D?line=0'>1</a>\u001b[0m embeddings \u001b[39m=\u001b[39m OpenAIEmbeddings()\n\u001b[0;32m----> <a href='vscode-notebook-cell:/Users/thanhquach/projects/llms/langchain/lcel/compare_decompose.ipynb#W2sZmlsZQ%3D%3D?line=1'>2</a>\u001b[0m qdrant \u001b[39m=\u001b[39m Qdrant\u001b[39m.\u001b[39;49mfrom_documents(\n\u001b[1;32m      <a href='vscode-notebook-cell:/Users/thanhquach/projects/llms/langchain/lcel/compare_decompose.ipynb#W2sZmlsZQ%3D%3D?line=2'>3</a>\u001b[0m     path\u001b[39m=\u001b[39;49m\u001b[39m\"\u001b[39;49m\u001b[39m./local_qdrant_storage\u001b[39;49m\u001b[39m\"\u001b[39;49m,\n\u001b[1;32m      <a href='vscode-notebook-cell:/Users/thanhquach/projects/llms/langchain/lcel/compare_decompose.ipynb#W2sZmlsZQ%3D%3D?line=3'>4</a>\u001b[0m )\n",
      "\u001b[0;31mTypeError\u001b[0m: VectorStore.from_documents() missing 2 required positional arguments: 'documents' and 'embedding'"
     ]
    }
   ],
   "source": [
    "embeddings = OpenAIEmbeddings()\n",
    "qdrant = Qdrant.from_documents(\n",
    "    path=\"./local_qdrant_storage\",\n",
    ")"
   ]
  },
  {
   "cell_type": "code",
   "execution_count": 2,
   "metadata": {},
   "outputs": [
    {
     "ename": "AttributeError",
     "evalue": "type object 'Qdrant' has no attribute 'get_collection'",
     "output_type": "error",
     "traceback": [
      "\u001b[0;31m---------------------------------------------------------------------------\u001b[0m",
      "\u001b[0;31mAttributeError\u001b[0m                            Traceback (most recent call last)",
      "\u001b[1;32m/Users/thanhquach/projects/llms/langchain/lcel/compare_decompose.ipynb Cell 4\u001b[0m line \u001b[0;36m1\n\u001b[0;32m----> <a href='vscode-notebook-cell:/Users/thanhquach/projects/llms/langchain/lcel/compare_decompose.ipynb#X16sZmlsZQ%3D%3D?line=0'>1</a>\u001b[0m \u001b[39mprint\u001b[39m(Qdrant\u001b[39m.\u001b[39;49mget_collection(path\u001b[39m=\u001b[39m\u001b[39m\"\u001b[39m\u001b[39m./local_qdrant_storage\u001b[39m\u001b[39m\"\u001b[39m))\n",
      "\u001b[0;31mAttributeError\u001b[0m: type object 'Qdrant' has no attribute 'get_collection'"
     ]
    }
   ],
   "source": [
    "print(Qdrant.get_collection(path=\"./local_qdrant_storage\"))"
   ]
  },
  {
   "cell_type": "code",
   "execution_count": 25,
   "metadata": {},
   "outputs": [],
   "source": [
    "functions = [\n",
    "    {\n",
    "        \"name\": \"question_decomposer\",\n",
    "        \"description\": \"decompose a question into 2 parts: non-searchable and searchable\",\n",
    "        \"parameters\": {\n",
    "            \"type\": \"object\",\n",
    "            \"properties\": {\n",
    "                \"non-searchable\": {\n",
    "                    \"type\": \"string\",\n",
    "                    \"description\": \"non-searchable are verbs like compare, contrast which does not need to be searched in our vector database\"\n",
    "                },\n",
    "                \"searchable\": {\n",
    "                    \"type\": \"string\",\n",
    "                    \"description\": \"searchable are nouns like Toronto, San Francisco which are information need to be searched and retrieved from our vector database\"\n",
    "                }\n",
    "            },\n",
    "            \"required\":[\"non-searchable\", \"searchable\"]\n",
    "        }\n",
    "    }, \n",
    "    {\n",
    "        \"name\": \"search_decomposer\",\n",
    "        \"description\": \"decompose a search term into individual items. For example: a population of Toronto and San Francisco will be decomposed into 2 items: the population of Toronto and the population of San Francisco\",\n",
    "        \"parameters\": {\n",
    "            \"type\": \"object\",\n",
    "            \"properties\": {\n",
    "                \"list_of_items\": {\n",
    "                    \"type\": \"array\",\n",
    "                    \"items\": {\n",
    "                        \"type\": \"string\",\n",
    "                        \"description\": \"individual item that needs to be searched\"\n",
    "                    }\n",
    "                }\n",
    "            },\n",
    "            \"required\":[\"list_of_items\"]\n",
    "        }\n",
    "    }\n",
    "]"
   ]
  },
  {
   "cell_type": "code",
   "execution_count": 21,
   "metadata": {},
   "outputs": [],
   "source": [
    "llm = ChatOpenAI(model=\"gpt-3.5-turbo\", temperature=0)\n",
    "\n",
    "template_1 = PromptTemplate.from_template(\"Please decompose this quesstion: {question}\")\n",
    "\n",
    "chain_1 = {\"question\": itemgetter(\"question\")} | template_1 | llm.bind(function_call={\"name\": \"question_decomposer\"},functions=functions) | JsonOutputFunctionsParser()\n"
   ]
  },
  {
   "cell_type": "code",
   "execution_count": 37,
   "metadata": {},
   "outputs": [
    {
     "name": "stdout",
     "output_type": "stream",
     "text": [
      "\n",
      "Here is the cost breakdown for this call:\n",
      "Tokens Used: 154\n",
      "\tPrompt Tokens: 130\n",
      "\tCompletion Tokens: 24\n",
      "Successful Requests: 1\n",
      "Total Cost (USD): $0.00024300000000000002\n"
     ]
    }
   ],
   "source": [
    "with get_openai_callback() as callback:\n",
    "    question_desomposed = chain_1.invoke({\"question\": \"compare the population of Toronto and San Francisco\"})\n",
    "    print(f\"\\nHere is the cost breakdown for this call:\\n{callback}\")"
   ]
  },
  {
   "cell_type": "code",
   "execution_count": 26,
   "metadata": {},
   "outputs": [],
   "source": [
    "template_2 = PromptTemplate.from_template(\"Please decompose this search term: {search_term}\")\n",
    "chain_2 = {\"search_term\": itemgetter(\"search_term\")} | template_2 | llm.bind(function_call={\"name\": \"search_decomposer\"},functions=functions) | JsonOutputFunctionsParser()"
   ]
  },
  {
   "cell_type": "code",
   "execution_count": 38,
   "metadata": {},
   "outputs": [
    {
     "name": "stdout",
     "output_type": "stream",
     "text": [
      "{'list_of_items': ['population of Toronto', 'population of San Francisco']}\n",
      "\n",
      "Here is the cost breakdown for this call:\n",
      "Tokens Used: 204\n",
      "\tPrompt Tokens: 185\n",
      "\tCompletion Tokens: 19\n",
      "Successful Requests: 1\n",
      "Total Cost (USD): $0.0003155\n"
     ]
    }
   ],
   "source": [
    "with get_openai_callback() as callback:\n",
    "    search = chain_2.invoke({\"search_term\": question_desomposed[\"searchable\"]})\n",
    "    print(search)\n",
    "    print(f\"\\nHere is the cost breakdown for this call:\\n{callback}\")"
   ]
  },
  {
   "cell_type": "code",
   "execution_count": 43,
   "metadata": {},
   "outputs": [
    {
     "name": "stdout",
     "output_type": "stream",
     "text": [
      "Toronto is the most populous city in Canada and the capital city of the Canadian province of Ontario. With a recorded population of 2,794,356 in 2021, it is the fourth-most populous city in North America. The city is the anchor of the Golden Horseshoe, an urban agglomeration of 9,765,188 people (as of 2021) surrounding the western end of Lake Ontario, while the Greater Toronto Area proper had a 2021 population of 6,712,341. Toronto is an international centre of business, finance, arts, sports and culture, and is recognized as one of the most multicultural and cosmopolitan cities in the world.\n",
      "\n",
      "The 2020 United States census showed San Francisco's population to be 873,965, an increase of 8.5% from the 2010 census. With roughly one-quarter the population density of Manhattan, San Francisco is the second-most densely populated large American city, behind only New York City among cities greater than 200,000 population, and the fifth-most densely populated U.S. county, following only four of the five New York City boroughs.  \n",
      "San Francisco is part of the five-county San Francisco–Oakland–Hayward, CA Metropolitan Statistical Area, a region of 4.7 million people (13th most populous in the U.S.), and has served as its traditional demographic focal point. It is also part of the greater 14-county San Jose-San Francisco-Oakland, CA Combined Statistical Area, whose population is over 9.6 million, making it the fifth-largest in the United States as of 2018.\n",
      "\n",
      "\n"
     ]
    }
   ],
   "source": [
    "relevant_docs = \"\"\n",
    "for i in search[\"list_of_items\"]:\n",
    "    docs = qdrant.similarity_search(i, k=1)\n",
    "    for j in docs:\n",
    "        relevant_docs += j.page_content + \"\\n\\n\"\n",
    "print(relevant_docs)"
   ]
  },
  {
   "cell_type": "code",
   "execution_count": 35,
   "metadata": {},
   "outputs": [],
   "source": [
    "\n",
    "template = \"\"\"given the below context:\n",
    "{context} \n",
    "please answer the question: {question}\n",
    "\"\"\"\n",
    "prompt = PromptTemplate.from_template(template=template)\n",
    "\n",
    "chain = {\"context\": itemgetter(\"context\"), \"question\": itemgetter(\"question\")}| prompt | llm | StrOutputParser()\n",
    "\n",
    "def pretty_print_docs(docs):\n",
    "    print(f\"\\n{'-' * 100}\\n\".join([f\"Document {i+1}:\\n\\n\" + d.page_content for i, d in enumerate(docs)]))"
   ]
  },
  {
   "cell_type": "code",
   "execution_count": 44,
   "metadata": {},
   "outputs": [
    {
     "name": "stdout",
     "output_type": "stream",
     "text": [
      "The population of Toronto in 2021 was 2,794,356, while the population of San Francisco in 2020 was 873,965. Therefore, Toronto has a significantly larger population than San Francisco.\n",
      "\n",
      "Here is the cost breakdown for this call:\n",
      "Tokens Used: 411\n",
      "\tPrompt Tokens: 367\n",
      "\tCompletion Tokens: 44\n",
      "Successful Requests: 1\n",
      "Total Cost (USD): $0.0006385\n"
     ]
    }
   ],
   "source": [
    "with get_openai_callback() as callback:\n",
    "    response = chain.invoke({\"context\": relevant_docs ,\"question\": \"compare the population of Toronto and San Francisco\"})\n",
    "    print(response)\n",
    "    print(f\"\\nHere is the cost breakdown for this call:\\n{callback}\")"
   ]
  },
  {
   "cell_type": "code",
   "execution_count": 46,
   "metadata": {},
   "outputs": [
    {
     "name": "stdout",
     "output_type": "stream",
     "text": [
      "Document 1:\n",
      "\n",
      "Toronto is the most populous city in Canada and the capital city of the Canadian province of Ontario. With a recorded population of 2,794,356 in 2021, it is the fourth-most populous city in North America. The city is the anchor of the Golden Horseshoe, an urban agglomeration of 9,765,188 people (as of 2021) surrounding the western end of Lake Ontario, while the Greater Toronto Area proper had a 2021 population of 6,712,341. Toronto is an international centre of business, finance, arts, sports and culture, and is recognized as one of the most multicultural and cosmopolitan cities in the world.\n"
     ]
    }
   ],
   "source": [
    "docs = qdrant.similarity_search(\"population of Toronto\", k=1)\n",
    "pretty_print_docs(docs)"
   ]
  },
  {
   "cell_type": "code",
   "execution_count": null,
   "metadata": {},
   "outputs": [],
   "source": []
  }
 ],
 "metadata": {
  "kernelspec": {
   "display_name": "llms",
   "language": "python",
   "name": "python3"
  },
  "language_info": {
   "codemirror_mode": {
    "name": "ipython",
    "version": 3
   },
   "file_extension": ".py",
   "mimetype": "text/x-python",
   "name": "python",
   "nbconvert_exporter": "python",
   "pygments_lexer": "ipython3",
   "version": "3.11.5"
  }
 },
 "nbformat": 4,
 "nbformat_minor": 2
}
