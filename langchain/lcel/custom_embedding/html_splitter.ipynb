{
 "cells": [
  {
   "cell_type": "code",
   "execution_count": 1,
   "metadata": {},
   "outputs": [],
   "source": [
    "from langchain.vectorstores import FAISS\n",
    "from langchain.embeddings import OpenAIEmbeddings\n",
    "from langchain.chat_models import ChatOpenAI\n",
    "from langchain.prompts import PromptTemplate\n",
    "from langchain.schema import StrOutputParser\n",
    "from operator import itemgetter\n",
    "from langchain.callbacks import get_openai_callback\n",
    "from langchain.text_splitter import HTMLHeaderTextSplitter, RecursiveCharacterTextSplitter"
   ]
  },
  {
   "cell_type": "code",
   "execution_count": 2,
   "metadata": {},
   "outputs": [],
   "source": [
    "with open('data/Toronto.txt', 'r') as f:\n",
    "    html_toronto = f.read()\n",
    "with open('data/New_York_City.txt', 'r') as f:\n",
    "    html_new_york = f.read()\n",
    "\n",
    "headers_to_split_on = [\n",
    "    (\"h1\", \"Header 1\"),\n",
    "    (\"h2\", \"Header 2\"),\n",
    "    (\"h3\", \"Header 3\"),\n",
    "]\n",
    "\n",
    "html_splitter = HTMLHeaderTextSplitter(headers_to_split_on=headers_to_split_on)\n",
    "toronto_header_splits = html_splitter.split_text(html_toronto)\n",
    "new_york_header_splits = html_splitter.split_text(html_new_york)"
   ]
  },
  {
   "cell_type": "code",
   "execution_count": 3,
   "metadata": {},
   "outputs": [
    {
     "name": "stdout",
     "output_type": "stream",
     "text": [
      "{'Header2': 'Overview', 'Header 3': 'population'}\n"
     ]
    }
   ],
   "source": [
    "toronto_header_splits[0].metadata = {\"Header2\": \"Overview\", \"Header 3\": \"population\"}\n",
    "print(toronto_header_splits[0].metadata)"
   ]
  },
  {
   "cell_type": "code",
   "execution_count": null,
   "metadata": {},
   "outputs": [],
   "source": [
    "print(toronto_header_splits[0])"
   ]
  },
  {
   "cell_type": "code",
   "execution_count": null,
   "metadata": {},
   "outputs": [],
   "source": [
    "len(new_york_header_splits)"
   ]
  },
  {
   "cell_type": "code",
   "execution_count": 4,
   "metadata": {},
   "outputs": [],
   "source": [
    "new_york_header_splits[0].metadata = {\"Header2\": \"Overview\", \"Header 3\": \"population\"}"
   ]
  },
  {
   "cell_type": "code",
   "execution_count": 20,
   "metadata": {},
   "outputs": [
    {
     "name": "stdout",
     "output_type": "stream",
     "text": [
      "{'Header2': 'Overview', 'Header 3': 'population'}\n"
     ]
    }
   ],
   "source": [
    "print(new_york_header_splits[0].metadata)"
   ]
  },
  {
   "cell_type": "code",
   "execution_count": 5,
   "metadata": {},
   "outputs": [],
   "source": [
    "chunk_size = 500\n",
    "chunk_overlap = 30\n",
    "text_splitter = RecursiveCharacterTextSplitter(\n",
    "    chunk_size=chunk_size, chunk_overlap=chunk_overlap\n",
    ")\n",
    "toronto_docs = text_splitter.split_documents(toronto_header_splits)\n",
    "new_york_docs = text_splitter.split_documents(new_york_header_splits)"
   ]
  },
  {
   "cell_type": "code",
   "execution_count": 6,
   "metadata": {},
   "outputs": [
    {
     "data": {
      "text/plain": [
       "95"
      ]
     },
     "execution_count": 6,
     "metadata": {},
     "output_type": "execute_result"
    }
   ],
   "source": [
    "total_docs = toronto_header_splits + new_york_header_splits\n",
    "len(total_docs)"
   ]
  },
  {
   "cell_type": "code",
   "execution_count": 7,
   "metadata": {},
   "outputs": [],
   "source": [
    "model = ChatOpenAI(model=\"gpt-3.5-turbo\", temperature=0)\n",
    "vector_store = FAISS.from_documents(total_docs, embedding=OpenAIEmbeddings())\n",
    "retriever = vector_store.as_retriever(search_kwargs={\"k\": 4})\n",
    "template = \"\"\"given the below context:\n",
    "{context} \n",
    "please answer the question: {question}\n",
    "\"\"\"\n",
    "prompt = PromptTemplate.from_template(template=template)\n",
    "\n",
    "chain = {\"context\": itemgetter(\"question\") | retriever, \"question\": itemgetter(\"question\")}| prompt | model | StrOutputParser()\n"
   ]
  },
  {
   "cell_type": "code",
   "execution_count": 8,
   "metadata": {},
   "outputs": [
    {
     "name": "stdout",
     "output_type": "stream",
     "text": [
      "The population of Toronto is 2,794,356 as of 2021.\n",
      "\n",
      "Here is the cost breakdown for this call:\n",
      "Tokens Used: 2355\n",
      "\tPrompt Tokens: 2338\n",
      "\tCompletion Tokens: 17\n",
      "Successful Requests: 1\n",
      "Total Cost (USD): $0.0035410000000000003\n"
     ]
    }
   ],
   "source": [
    "with get_openai_callback() as callback:\n",
    "    response = chain.invoke({\"question\": \"what is the population of Toronto?\"})\n",
    "    print(response)\n",
    "    print(f\"\\nHere is the cost breakdown for this call:\\n{callback}\")"
   ]
  },
  {
   "cell_type": "code",
   "execution_count": 9,
   "metadata": {},
   "outputs": [
    {
     "name": "stdout",
     "output_type": "stream",
     "text": [
      "To compare the population between New York City and Toronto, we need to consider the most recent data available. According to the given context, the population of Toronto in 2021 was 2,794,356. On the other hand, the population of New York City in 2020 was not explicitly mentioned, but it states that the city gained 629,000 residents between 2010 and 2020. Therefore, we can estimate the population of New York City in 2020 as 8,804,190 + 629,000 = 9,433,190.\n",
      "\n",
      "To calculate the percentage difference between the two populations, we can use the formula:\n",
      "\n",
      "Percentage Difference = ((New Population - Old Population) / Old Population) * 100\n",
      "\n",
      "Percentage Difference = ((9,433,190 - 2,794,356) / 2,794,356) * 100\n",
      "\n",
      "Percentage Difference = (6,638,834 / 2,794,356) * 100\n",
      "\n",
      "Percentage Difference ≈ 237.4%\n",
      "\n",
      "Therefore, the percentage difference between the populations of New York City and Toronto is approximately 237.4%.\n",
      "\n",
      "Here is the cost breakdown for this call:\n",
      "Tokens Used: 3439\n",
      "\tPrompt Tokens: 3206\n",
      "\tCompletion Tokens: 233\n",
      "Successful Requests: 1\n",
      "Total Cost (USD): $0.005275\n"
     ]
    }
   ],
   "source": [
    "with get_openai_callback() as callback:\n",
    "    response = chain.invoke({\"question\": \"please compare the population between New York City and Toronto, what is the percentage difference between two populations?\"})\n",
    "    print(response)\n",
    "    print(f\"\\nHere is the cost breakdown for this call:\\n{callback}\")"
   ]
  },
  {
   "cell_type": "code",
   "execution_count": null,
   "metadata": {},
   "outputs": [],
   "source": [
    "relevant_docs = retriever.get_relevant_documents(\"pleasse compare the population between New York City and Toronto, what is the percentage difference between two populations?\")\n",
    "for doc in relevant_docs:\n",
    "    print(f\"{doc} \\n\")"
   ]
  }
 ],
 "metadata": {
  "kernelspec": {
   "display_name": "llms",
   "language": "python",
   "name": "python3"
  },
  "language_info": {
   "codemirror_mode": {
    "name": "ipython",
    "version": 3
   },
   "file_extension": ".py",
   "mimetype": "text/x-python",
   "name": "python",
   "nbconvert_exporter": "python",
   "pygments_lexer": "ipython3",
   "version": "3.11.5"
  }
 },
 "nbformat": 4,
 "nbformat_minor": 2
}
