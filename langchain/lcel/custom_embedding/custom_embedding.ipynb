{
 "cells": [
  {
   "cell_type": "code",
   "execution_count": 47,
   "metadata": {},
   "outputs": [],
   "source": [
    "import requests\n",
    "from pathlib import Path\n",
    "from llama_index import SimpleDirectoryReader, ServiceContext, LangchainEmbedding, StorageContext, VectorStoreIndex\n",
    "from llama_index.llms import OpenAI\n",
    "from llama_index.node_parser import SimpleNodeParser\n",
    "from langchain.embeddings import HuggingFaceBgeEmbeddings"
   ]
  },
  {
   "cell_type": "code",
   "execution_count": 48,
   "metadata": {},
   "outputs": [],
   "source": [
    "# wiki_titles = [\"Toronto\", \"New York City\", \"Houston\", \"San Francisco\"]\n",
    "wiki_titles = [\"Toronto\"]\n",
    "for title in wiki_titles:\n",
    "    response = requests.get(f\"https://en.wikipedia.org/w/api.php\", \n",
    "                            params={\n",
    "                                \"action\": \"query\",\n",
    "                                \"format\": \"json\",\n",
    "                                \"titles\": title,\n",
    "                                \"prop\": \"extracts\",\n",
    "                            }).json()\n",
    "    page = next(iter(response['query']['pages'].values()))\n",
    "    wiki_text = page['extract']\n",
    "    data_path = Path('data')\n",
    "    if not data_path.exists():\n",
    "        Path.mkdir(data_path)\n",
    "\n",
    "    with open(data_path / f\"{title}.txt\", 'w', encoding=\"utf-8\") as fp:\n",
    "        fp.write(wiki_text)"
   ]
  },
  {
   "cell_type": "code",
   "execution_count": 49,
   "metadata": {},
   "outputs": [],
   "source": [
    "llm = OpenAI(model=\"gpt-3.5-turbo\", temperature=0.7)\n",
    "embedding_model = \"BAAI/bge-large-en-v1.5\"\n",
    "embeddings = LangchainEmbedding(HuggingFaceBgeEmbeddings(model_name=embedding_model))\n",
    "parser = SimpleNodeParser.from_defaults()\n",
    "service_context = ServiceContext.from_defaults(llm=llm, embed_model=embeddings, node_parser=parser)"
   ]
  },
  {
   "cell_type": "code",
   "execution_count": 51,
   "metadata": {},
   "outputs": [],
   "source": [
    "docs = SimpleDirectoryReader('./data').load_data()\n",
    "nodes = parser.get_nodes_from_documents(docs)\n",
    "storage_context = StorageContext.from_defaults()\n",
    "storage_context.docstore.add_documents(nodes)"
   ]
  },
  {
   "cell_type": "code",
   "execution_count": 52,
   "metadata": {},
   "outputs": [],
   "source": [
    "index = VectorStoreIndex(nodes, service_context=service_context, storage_context=storage_context)"
   ]
  },
  {
   "cell_type": "code",
   "execution_count": 53,
   "metadata": {},
   "outputs": [],
   "source": [
    "storage_context.persist(persist_dir=\"./storage\")"
   ]
  },
  {
   "cell_type": "code",
   "execution_count": 54,
   "metadata": {},
   "outputs": [],
   "source": [
    "query_engine = index.as_query_engine()"
   ]
  },
  {
   "cell_type": "code",
   "execution_count": 63,
   "metadata": {},
   "outputs": [
    {
     "name": "stdout",
     "output_type": "stream",
     "text": [
      "Here is the response: \n",
      " The population of Toronto is 2,794,356 as of 2021.\n"
     ]
    }
   ],
   "source": [
    "response = query_engine.query(\"what are the population of Toronto?\")\n",
    "print(f\"Here is the response: \\n {response}\")"
   ]
  },
  {
   "cell_type": "code",
   "execution_count": 64,
   "metadata": {},
   "outputs": [
    {
     "name": "stdout",
     "output_type": "stream",
     "text": [
      "Here is the response: \n",
      " The population of New York City in 2020 was 8,804,190.\n"
     ]
    }
   ],
   "source": [
    "response = query_engine.query(\"what are the population of New York?\")\n",
    "print(f\"Here is the response: \\n {response}\")"
   ]
  },
  {
   "cell_type": "code",
   "execution_count": 61,
   "metadata": {},
   "outputs": [
    {
     "name": "stdout",
     "output_type": "stream",
     "text": [
      "Here is the response: \n",
      " The population of Toronto is provided in the context information as 2,794,356 in 2021. However, there is no information about the population of New York City in the given context. Therefore, without additional information, it is not possible to compare the population of Toronto and New York City.\n",
      " Here is the source nodes:\n",
      " > Source (Doc id: df7d8e2f-115d-4c42-9b4d-f476fb7091c8): <link rel=\"mw-deduplicated-inline-style\" href=\"mw-data:TemplateStyles:r1033289096\">\n",
      "<p class=\"mw-...\n",
      "\n",
      "> Source (Doc id: fa564c25-784e-406d-b08b-e8fd50e928b3): Toronto's traffic congestion is one of the highest in North America, and is the second highest in...\n"
     ]
    }
   ],
   "source": [
    "response = query_engine.query(\"compare the population of Toronto and New York City\")\n",
    "print(f\"Here is the response: \\n {response}\\n Here is the source nodes:\\n {response.get_formatted_sources()}\")"
   ]
  },
  {
   "cell_type": "markdown",
   "metadata": {},
   "source": [
    "As stupid as it sounds, we just tested and it could answer both population of Toronto and New York City. Now it says it is impossible to compare.\n",
    "Why is that? It has something to do with the query engine."
   ]
  },
  {
   "cell_type": "code",
   "execution_count": 71,
   "metadata": {},
   "outputs": [],
   "source": [
    "from llama_index.retrievers import VectorIndexRetriever\n",
    "from llama_index.query_engine import RetrieverQueryEngine\n",
    "from llama_index import get_response_synthesizer\n",
    "\n",
    "retriever = VectorIndexRetriever(\n",
    "    index=index, \n",
    "    similarity_top_k=4,\n",
    ")\n",
    "\n",
    "response_synthesizer = get_response_synthesizer(verbose=True)\n",
    "\n",
    "query_engine = RetrieverQueryEngine(\n",
    "    retriever=retriever,\n",
    "    response_synthesizer=response_synthesizer,\n",
    ")\n"
   ]
  },
  {
   "cell_type": "code",
   "execution_count": 72,
   "metadata": {},
   "outputs": [
    {
     "name": "stdout",
     "output_type": "stream",
     "text": [
      "Here is the response: \n",
      " Toronto has a recorded population of 2,794,356 in 2021, while Houston has a population of 2,302,878 in 2022. Therefore, Toronto has a higher population than Houston.\n",
      " Here is the source nodes:\n",
      " > Source (Doc id: df7d8e2f-115d-4c42-9b4d-f476fb7091c8): <link rel=\"mw-deduplicated-inline-style\" href=\"mw-data:TemplateStyles:r1033289096\">\n",
      "<p class=\"mw-...\n",
      "\n",
      "> Source (Doc id: 90fd2e84-b1bb-4e74-a8f2-b4c845cb16cd): <p class=\"mw-empty-elt\">\n",
      "\n",
      "</p>\n",
      "<p><b>Houston</b> (<span> <span></span></span>; <i title=\"English ...\n",
      "\n",
      "> Source (Doc id: fa564c25-784e-406d-b08b-e8fd50e928b3): Toronto's traffic congestion is one of the highest in North America, and is the second highest in...\n",
      "\n",
      "> Source (Doc id: 65f7e9e7-9921-452f-abd4-01804b16a568): The public transit system passed into public ownership in 1921 as the Toronto Transportation Comm...\n"
     ]
    }
   ],
   "source": [
    "response = query_engine.query(\"compare the population of Toronto and Houston\")\n",
    "print(f\"Here is the response: \\n {response}\\n Here is the source nodes:\\n {response.get_formatted_sources()}\")"
   ]
  },
  {
   "cell_type": "markdown",
   "metadata": {},
   "source": [
    "As you can see, when we increase the top-k to 4, we expand the search result and thus, there is space to include the second city in question such as New york or Houston.\n",
    "Now, let's get some maths involed in our query and see how it performs."
   ]
  },
  {
   "cell_type": "code",
   "execution_count": 74,
   "metadata": {},
   "outputs": [
    {
     "name": "stdout",
     "output_type": "stream",
     "text": [
      "> Refine context: now known as Allen's Landing) and incorporated ...\n",
      "Here is the response: \n",
      " The population of Toronto and Houston are not provided in the given context. Therefore, it is not possible to calculate the percentage difference between the two populations.\n",
      " Here is the source nodes:\n",
      " > Source (Doc id: df7d8e2f-115d-4c42-9b4d-f476fb7091c8): <link rel=\"mw-deduplicated-inline-style\" href=\"mw-data:TemplateStyles:r1033289096\">\n",
      "<p class=\"mw-...\n",
      "\n",
      "> Source (Doc id: deedec6d-4f8b-4adb-9c33-d596ffe23559): The Houston area is home to the largest African American community west of the Mississippi River....\n",
      "\n",
      "> Source (Doc id: d5cff623-4203-4fd5-9a10-3b1181783a74): In 2009, Houston became the first U.S. city with a population over 1 million citizens to elect a ...\n",
      "\n",
      "> Source (Doc id: 90fd2e84-b1bb-4e74-a8f2-b4c845cb16cd): <p class=\"mw-empty-elt\">\n",
      "\n",
      "</p>\n",
      "<p><b>Houston</b> (<span> <span></span></span>; <i title=\"English ...\n"
     ]
    }
   ],
   "source": [
    "response = query_engine.query(\"Compare the population of Toronto and Houston. What is the percentage difference between two populations?\")\n",
    "print(f\"Here is the response: \\n {response}\\n Here is the source nodes:\\n {response.get_formatted_sources()}\")"
   ]
  },
  {
   "cell_type": "code",
   "execution_count": 75,
   "metadata": {},
   "outputs": [
    {
     "name": "stdout",
     "output_type": "stream",
     "text": [
      "> Refine context: by total area whose government is not consolida...\n",
      "Here is the response: \n",
      " The percentage difference between the population of Toronto in 2021 and the population of Houston in 2022 cannot be determined based on the given context information.\n",
      " Here is the source nodes:\n",
      " > Source (Doc id: df7d8e2f-115d-4c42-9b4d-f476fb7091c8): <link rel=\"mw-deduplicated-inline-style\" href=\"mw-data:TemplateStyles:r1033289096\">\n",
      "<p class=\"mw-...\n",
      "\n",
      "> Source (Doc id: edfbb42f-5725-4437-af56-ee09c72e5070): With a land area of 631.1 km<sup>2</sup> (243.7 sq mi), it had a population density of <span data...\n",
      "\n",
      "> Source (Doc id: 97841949-af0b-4440-8266-b219936ea4e7): The Houston City Council passed this regulation in 2018 with a vote of 9–7. Had these floodplain ...\n",
      "\n",
      "> Source (Doc id: 90fd2e84-b1bb-4e74-a8f2-b4c845cb16cd): <p class=\"mw-empty-elt\">\n",
      "\n",
      "</p>\n",
      "<p><b>Houston</b> (<span> <span></span></span>; <i title=\"English ...\n"
     ]
    }
   ],
   "source": [
    "response = query_engine.query(\"Toronto has a recorded population of 2,794,356 in 2021, while Houston has a population of 2,302,878 in 2022. What is the percentage difference between two populations?\")\n",
    "print(f\"Here is the response: \\n {response}\\n Here is the source nodes:\\n {response.get_formatted_sources()}\")"
   ]
  },
  {
   "cell_type": "markdown",
   "metadata": {},
   "source": [
    "Ok, we can see that the retrieval engine might have problems of understanding \"percentage difference\", that's why it tries to retrieve documents that have something to do with percentage of areas, lands. This might be caused by the embedding quality of HuggingFace Model. It will be interesting to see the result when we use OpenAI Embeddings."
   ]
  },
  {
   "cell_type": "code",
   "execution_count": null,
   "metadata": {},
   "outputs": [],
   "source": []
  }
 ],
 "metadata": {
  "kernelspec": {
   "display_name": "llms",
   "language": "python",
   "name": "python3"
  },
  "language_info": {
   "codemirror_mode": {
    "name": "ipython",
    "version": 3
   },
   "file_extension": ".py",
   "mimetype": "text/x-python",
   "name": "python",
   "nbconvert_exporter": "python",
   "pygments_lexer": "ipython3",
   "version": "3.11.5"
  }
 },
 "nbformat": 4,
 "nbformat_minor": 2
}
