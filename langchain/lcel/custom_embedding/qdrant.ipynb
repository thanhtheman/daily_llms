{
 "cells": [
  {
   "cell_type": "code",
   "execution_count": 43,
   "metadata": {},
   "outputs": [],
   "source": [
    "from qdrant_client import QdrantClient\n",
    "import os\n",
    "from llama_index.vector_stores.qdrant import QdrantVectorStore\n",
    "from llama_index import StorageContext, VectorStoreIndex, SimpleDirectoryReader, ServiceContext\n",
    "from llama_index.llms import OpenAI"
   ]
  },
  {
   "cell_type": "code",
   "execution_count": 44,
   "metadata": {},
   "outputs": [],
   "source": [
    "\n",
    "qdrant_client = QdrantClient(\n",
    "    os.getenv(\"QDRANT_ENDPOINT\"), \n",
    "    prefer_grpc=True,\n",
    "    api_key=os.getenv(\"QDRANT_API_KEY\")\n",
    ")\n",
    "llm = OpenAI(model=\"gpt-3.5-turbo\", temperature=0)\n",
    "service_context = ServiceContext.from_defaults(llm=llm)\n",
    "vector_store = QdrantVectorStore(client=qdrant_client, collection_name=\"city_query\")\n",
    "storage_context = StorageContext.from_defaults(vector_store=vector_store)\n",
    "documents = SimpleDirectoryReader(\"./data\").load_data()\n",
    "index = VectorStoreIndex.from_documents(documents,storage_context=storage_context, service_context=service_context)"
   ]
  },
  {
   "cell_type": "code",
   "execution_count": 60,
   "metadata": {},
   "outputs": [],
   "source": [
    "query_engine = index.as_query_engine()"
   ]
  },
  {
   "cell_type": "code",
   "execution_count": 61,
   "metadata": {},
   "outputs": [
    {
     "name": "stdout",
     "output_type": "stream",
     "text": [
      "The population of Houston is not provided in the given context information. The population of New York is also not provided in the given context information.\n",
      "> Source (Doc id: e0bd2a3a-e8ec-4ad9-9b47-b5987e87bc2b): In 2009, Houston became the first U.S. city with a population over 1 million citizens to elect a ...\n",
      "\n",
      "> Source (Doc id: e19e1232-4571-4b51-a257-4894a3546a66): In 2009, Houston became the first U.S. city with a population over 1 million citizens to elect a ...\n"
     ]
    }
   ],
   "source": [
    "response = query_engine.query(\"what is the population of Houston? What is the population of New York?\")\n",
    "print(response)\n",
    "print(response.get_formatted_sources())"
   ]
  },
  {
   "cell_type": "code",
   "execution_count": 55,
   "metadata": {},
   "outputs": [],
   "source": [
    "from llama_index.retrievers import VectorIndexRetriever\n",
    "from llama_index.query_engine import RetrieverQueryEngine\n",
    "from llama_index import get_response_synthesizer\n",
    "\n",
    "retriever = VectorIndexRetriever(\n",
    "    index=index, \n",
    "    similarity_top_k=4,\n",
    ")\n",
    "\n",
    "response_synthesizer = get_response_synthesizer(verbose=True)\n",
    "\n",
    "query_engine = RetrieverQueryEngine(\n",
    "    retriever=retriever,\n",
    "    response_synthesizer=response_synthesizer,\n",
    ")"
   ]
  },
  {
   "cell_type": "code",
   "execution_count": 59,
   "metadata": {},
   "outputs": [
    {
     "name": "stdout",
     "output_type": "stream",
     "text": [
      "> Refine context: on their local economy, employment opportunitie...\n",
      "Based on the given context, it is not possible to compare the population of Houston and New York as New York is not mentioned.\n",
      "> Source (Doc id: e19e1232-4571-4b51-a257-4894a3546a66): In 2009, Houston became the first U.S. city with a population over 1 million citizens to elect a ...\n",
      "\n",
      "> Source (Doc id: e0bd2a3a-e8ec-4ad9-9b47-b5987e87bc2b): In 2009, Houston became the first U.S. city with a population over 1 million citizens to elect a ...\n",
      "\n",
      "> Source (Doc id: 1b2f8d17-e484-45fe-8138-3abaf86c1ae8): In 2010, mining (which consists almost entirely of exploration and production of oil and gas in H...\n",
      "\n",
      "> Source (Doc id: 16f35567-8533-47f0-bbec-6abf790f5aae): In 2010, mining (which consists almost entirely of exploration and production of oil and gas in H...\n"
     ]
    }
   ],
   "source": [
    "response = query_engine.query(\"compare the population of Houston and New York\")\n",
    "print(response)\n",
    "print(response.get_formatted_sources())"
   ]
  },
  {
   "cell_type": "code",
   "execution_count": null,
   "metadata": {},
   "outputs": [],
   "source": []
  }
 ],
 "metadata": {
  "kernelspec": {
   "display_name": "llms",
   "language": "python",
   "name": "python3"
  },
  "language_info": {
   "codemirror_mode": {
    "name": "ipython",
    "version": 3
   },
   "file_extension": ".py",
   "mimetype": "text/x-python",
   "name": "python",
   "nbconvert_exporter": "python",
   "pygments_lexer": "ipython3",
   "version": "3.11.5"
  }
 },
 "nbformat": 4,
 "nbformat_minor": 2
}
