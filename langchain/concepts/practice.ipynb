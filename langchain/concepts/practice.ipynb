{
 "cells": [
  {
   "cell_type": "code",
   "execution_count": 12,
   "metadata": {},
   "outputs": [
    {
     "data": {
      "text/plain": [
       "True"
      ]
     },
     "execution_count": 12,
     "metadata": {},
     "output_type": "execute_result"
    }
   ],
   "source": [
    "from langchain.chat_models import ChatOpenAI\n",
    "from langchain.schema import AIMessage, HumanMessage\n",
    "import requests, json, os\n",
    "from dotenv import load_dotenv\n",
    "load_dotenv()\n"
   ]
  },
  {
   "cell_type": "code",
   "execution_count": 36,
   "metadata": {},
   "outputs": [],
   "source": [
    "llm = ChatOpenAI(model=\"gpt-3.5-turbo\", temperature=0.8)\n",
    "user_request = \"\"\"please identify the top stock movers today, look for the news that moved these stocks, and summarize the news to explain why each of these stock moved. \n",
    "Please follow this format: company name, percentage of price change and explanation\n",
    "\"\"\"\n",
    "\n",
    "functions = [\n",
    "    {\n",
    "        \"name\":\"get_stock_movers\",\n",
    "        \"description\": \"Get the stocks that has biggest price/volume moves, e.g. actives, gainers, losers, etc.\",\n",
    "        \"parameters\": {\n",
    "            \"type\": \"object\",\n",
    "            \"properties\": {\n",
    "\n",
    "            }\n",
    "        }\n",
    "    },\n",
    "    {\n",
    "        \"name\": \"get_market_news\",\n",
    "        \"descriptions\":\"Get the latest news that moves the stocks\",\n",
    "        \"parameters\": {\n",
    "            \"type\": \"object\",\n",
    "            \"properties\": {\n",
    "                \"performanceIDs\": {\n",
    "                    \"type\": \"array\",\n",
    "                    \"items\": {\n",
    "                        \"type\":\"string\",\n",
    "                        \"description\": \"a performanceID in a specific format such as '0P000003B1' of a stock\"\n",
    "                    },\n",
    "                    \"description\": \"a list of all performanceIDs\"\n",
    "                }\n",
    "            },\n",
    "            \"required\": [\"performanceIDs\"]\n",
    "        }\n",
    "    }\n",
    "]"
   ]
  },
  {
   "cell_type": "code",
   "execution_count": 27,
   "metadata": {},
   "outputs": [],
   "source": [
    "#helper function\n",
    "def get_stock_movers():\n",
    "    url = \"https://morning-star.p.rapidapi.com/market/v2/get-movers\"\n",
    "    headers = {\n",
    "        \"X-RapidAPI-Key\": os.getenv(\"X-RAPIDAPI-KEY\"),\n",
    "        \"X-RapidAPI-Host\": \"morning-star.p.rapidapi.com\"\n",
    "    }\n",
    "    response = requests.get(url, headers=headers)\n",
    "    data = response.json()\n",
    "    movers = []\n",
    "    for i in data[\"gainers\"][:3]:\n",
    "        movers.append({i[\"ticker\"], i[\"name\"], i[\"performanceID\"], i[\"percentNetChange\"]})\n",
    "    return movers\n",
    "\n",
    "def get_market_news(performanceID):\n",
    "    url = \"https://morning-star.p.rapidapi.com/news/list\"\n",
    "\n",
    "    querystring = {\"performanceId\":performanceID}\n",
    "\n",
    "    headers = {\n",
    "        \"X-RapidAPI-Key\": os.getenv(\"X-RAPIDAPI-KEY\"),\n",
    "        \"X-RapidAPI-Host\": \"morning-star.p.rapidapi.com\"\n",
    "    }\n",
    "\n",
    "    response = requests.get(url, headers=headers, params=querystring)\n",
    "  \n",
    "    return response.json()\n",
    "\n",
    "def format_news(list_ids):\n",
    "    list_news = []\n",
    "    for i in list_ids:\n",
    "        list_title = []    \n",
    "        list_news.append({i: list_title})\n",
    "        for j in get_market_news(i)[:3]:\n",
    "            list_title.append(j[\"title\"])\n",
    "    return list_news"
   ]
  },
  {
   "cell_type": "code",
   "execution_count": 37,
   "metadata": {},
   "outputs": [],
   "source": [
    "first_response = llm.predict_messages([HumanMessage(content=user_request)], functions=functions, function_call=\"auto\")\n",
    "api_response = first_response.additional_kwargs[\"function_call\"][\"arguments\"]\n",
    "api_response = str(get_stock_movers())"
   ]
  },
  {
   "cell_type": "code",
   "execution_count": 38,
   "metadata": {},
   "outputs": [
    {
     "name": "stdout",
     "output_type": "stream",
     "text": [
      "[{'LRN', 'Stride', '0P0000A298', 17.9562}, {'0P0000HX9P', 9.7787, 'JBT', 'John Bean Technologies Corp'}, {8.9361, 'MSA', '0P000003NM', 'Mine Safety'}]\n"
     ]
    }
   ],
   "source": [
    "print(api_response)"
   ]
  },
  {
   "cell_type": "code",
   "execution_count": 41,
   "metadata": {},
   "outputs": [],
   "source": [
    "second_response = llm.predict_messages([HumanMessage(content=user_request),\n",
    "                                       AIMessage(content=api_response)], functions=functions, function_call=\"auto\")"
   ]
  },
  {
   "cell_type": "code",
   "execution_count": 42,
   "metadata": {},
   "outputs": [
    {
     "name": "stdout",
     "output_type": "stream",
     "text": [
      "content='' additional_kwargs={'function_call': {'name': 'get_market_news', 'arguments': '{\\n  \"performanceIDs\": [\"LRN\", \"0P0000A298\", \"0P0000HX9P\", \"MSA\", \"0P000003NM\"]\\n}'}}\n"
     ]
    }
   ],
   "source": [
    "print(second_response)"
   ]
  },
  {
   "cell_type": "code",
   "execution_count": 43,
   "metadata": {},
   "outputs": [],
   "source": [
    "list_ids = json.loads(second_response.additional_kwargs[\"function_call\"][\"arguments\"])\n",
    "list_ids = list_ids[\"performanceIDs\"]\n",
    "second_api_response= str(format_news(list_ids))"
   ]
  },
  {
   "cell_type": "code",
   "execution_count": 47,
   "metadata": {},
   "outputs": [
    {
     "name": "stdout",
     "output_type": "stream",
     "text": [
      "<class 'str'>\n",
      "[{'LRN': ['Stride Professional Development Center Announces 2024 Promising Practices Conference', 'Stocks to Watch: Microsoft, Alphabet, Stride', 'Stride Achieves Record Q1 Revenue']}, {'0P0000A298': ['Stride Professional Development Center Announces 2024 Promising Practices Conference', 'Stocks to Watch: Microsoft, Alphabet, Stride', 'Stride Achieves Record Q1 Revenue']}, {'0P0000HX9P': ['JBT Corporation Reports Third Quarter 2023 Results', 'JBT Corporation Announces Third Quarter 2023 Earnings Release and Conference Call Schedule', 'JBT Corporation Declares Quarterly Dividend']}, {'MSA': ['MSA Safety Announces Third Quarter Results', 'MSA Safety Highlights Enhanced Connected Safety Solutions at National Safety Congress & Expo', 'MSA Safety Schedules Third Quarter 2023 Earnings Conference Call']}, {'0P000003NM': ['MSA Safety Announces Third Quarter Results', 'MSA Safety Highlights Enhanced Connected Safety Solutions at National Safety Congress & Expo', 'MSA Safety Schedules Third Quarter 2023 Earnings Conference Call']}]\n"
     ]
    }
   ],
   "source": [
    "print(type(second_api_response))\n",
    "print(second_api_response)"
   ]
  },
  {
   "cell_type": "code",
   "execution_count": 48,
   "metadata": {},
   "outputs": [],
   "source": [
    "final_response = llm.predict_messages([HumanMessage(content=user_request),\n",
    "                                       AIMessage(content=api_response),\n",
    "                                       AIMessage(content=second_api_response)],functions=functions, function_call=\"auto\")\n"
   ]
  },
  {
   "cell_type": "code",
   "execution_count": 50,
   "metadata": {},
   "outputs": [
    {
     "name": "stdout",
     "output_type": "stream",
     "text": [
      "The top stock movers today are:\n",
      "\n",
      "1. Stride (LRN): +17.96%\n",
      "    - Stride Professional Development Center announced the 2024 Promising Practices Conference.\n",
      "    - Microsoft, Alphabet, and Stride are stocks to watch.\n",
      "    - Stride achieved record Q1 revenue.\n",
      "\n",
      "2. John Bean Technologies Corp (JBT): +9.78%\n",
      "    - JBT Corporation reported third quarter 2023 results.\n",
      "    - JBT Corporation announced the third quarter 2023 earnings release and conference call schedule.\n",
      "    - JBT Corporation declared a quarterly dividend.\n",
      "\n",
      "3. Mine Safety (MSA): +8.94%\n",
      "    - MSA Safety announced third quarter results.\n",
      "    - MSA Safety highlighted enhanced connected safety solutions at the National Safety Congress & Expo.\n",
      "    - MSA Safety scheduled the third quarter 2023 earnings conference call.\n"
     ]
    }
   ],
   "source": [
    "print(final_response.content)"
   ]
  },
  {
   "cell_type": "code",
   "execution_count": null,
   "metadata": {},
   "outputs": [],
   "source": []
  }
 ],
 "metadata": {
  "kernelspec": {
   "display_name": "llms",
   "language": "python",
   "name": "python3"
  },
  "language_info": {
   "codemirror_mode": {
    "name": "ipython",
    "version": 3
   },
   "file_extension": ".py",
   "mimetype": "text/x-python",
   "name": "python",
   "nbconvert_exporter": "python",
   "pygments_lexer": "ipython3",
   "version": "3.11.5"
  }
 },
 "nbformat": 4,
 "nbformat_minor": 2
}
