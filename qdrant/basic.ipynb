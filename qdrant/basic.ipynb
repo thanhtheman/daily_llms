{
 "cells": [
  {
   "cell_type": "code",
   "execution_count": 1,
   "metadata": {},
   "outputs": [
    {
     "name": "stderr",
     "output_type": "stream",
     "text": [
      "/opt/homebrew/Caskroom/miniconda/base/envs/llms/lib/python3.11/site-packages/tqdm/auto.py:21: TqdmWarning: IProgress not found. Please update jupyter and ipywidgets. See https://ipywidgets.readthedocs.io/en/stable/user_install.html\n",
      "  from .autonotebook import tqdm as notebook_tqdm\n"
     ]
    }
   ],
   "source": [
    "from qdrant_client import models, QdrantClient\n",
    "from sentence_transformers import SentenceTransformer\n",
    "import os\n",
    "from dotenv import load_dotenv\n",
    "load_dotenv()\n",
    "encoder = SentenceTransformer('all-MiniLM-L6-v2') \n",
    "\n",
    "qdrant = QdrantClient(\n",
    "    os.getenv(\"QDRANT_ENDPOINT\"), \n",
    "    prefer_grpc=True,\n",
    "    api_key=os.getenv(\"QDRANT_API_KEY\")\n",
    ")"
   ]
  },
  {
   "cell_type": "code",
   "execution_count": 2,
   "metadata": {},
   "outputs": [],
   "source": [
    "documents = [\n",
    "{ \"name\": \"The Time Machine\", \"description\": \"A man travels through time and witnesses the evolution of humanity.\", \"author\": \"H.G. Wells\", \"year\": 1895 },\n",
    "{ \"name\": \"Ender's Game\", \"description\": \"A young boy is trained to become a military leader in a war against an alien race.\", \"author\": \"Orson Scott Card\", \"year\": 1985 },\n",
    "{ \"name\": \"Brave New World\", \"description\": \"A dystopian society where people are genetically engineered and conditioned to conform to a strict social hierarchy.\", \"author\": \"Aldous Huxley\", \"year\": 1932 },\n",
    "{ \"name\": \"The Hitchhiker's Guide to the Galaxy\", \"description\": \"A comedic science fiction series following the misadventures of an unwitting human and his alien friend.\", \"author\": \"Douglas Adams\", \"year\": 1979 },\n",
    "{ \"name\": \"Dune\", \"description\": \"A desert planet is the site of political intrigue and power struggles.\", \"author\": \"Frank Herbert\", \"year\": 1965 },\n",
    "{ \"name\": \"Foundation\", \"description\": \"A mathematician develops a science to predict the future of humanity and works to save civilization from collapse.\", \"author\": \"Isaac Asimov\", \"year\": 1951 },\n",
    "{ \"name\": \"Snow Crash\", \"description\": \"A futuristic world where the internet has evolved into a virtual reality metaverse.\", \"author\": \"Neal Stephenson\", \"year\": 1992 },\n",
    "{ \"name\": \"Neuromancer\", \"description\": \"A hacker is hired to pull off a near-impossible hack and gets pulled into a web of intrigue.\", \"author\": \"William Gibson\", \"year\": 1984 },\n",
    "{ \"name\": \"The War of the Worlds\", \"description\": \"A Martian invasion of Earth throws humanity into chaos.\", \"author\": \"H.G. Wells\", \"year\": 1898 },\n",
    "{ \"name\": \"The Hunger Games\", \"description\": \"A dystopian society where teenagers are forced to fight to the death in a televised spectacle.\", \"author\": \"Suzanne Collins\", \"year\": 2008 },\n",
    "{ \"name\": \"The Andromeda Strain\", \"description\": \"A deadly virus from outer space threatens to wipe out humanity.\", \"author\": \"Michael Crichton\", \"year\": 1969 },\n",
    "{ \"name\": \"The Left Hand of Darkness\", \"description\": \"A human ambassador is sent to a planet where the inhabitants are genderless and can change gender at will.\", \"author\": \"Ursula K. Le Guin\", \"year\": 1969 },\n",
    "{ \"name\": \"The Three-Body Problem\", \"description\": \"Humans encounter an alien civilization that lives in a dying system.\", \"author\": \"Liu Cixin\", \"year\": 2008 }\n",
    "]"
   ]
  },
  {
   "cell_type": "code",
   "execution_count": null,
   "metadata": {},
   "outputs": [],
   "source": [
    "qdrant.recreate_collection(\n",
    "\tcollection_name=\"my_books\",\n",
    "\tvectors_config=models.VectorParams(\n",
    "\t\tsize=encoder.get_sentence_embedding_dimension(), # Vector size is defined by used model\n",
    "\t\tdistance=models.Distance.COSINE\n",
    "\t)\n",
    ")"
   ]
  },
  {
   "cell_type": "code",
   "execution_count": 7,
   "metadata": {},
   "outputs": [
    {
     "data": {
      "text/plain": [
       "[('status', <CollectionStatus.GREEN: 'green'>),\n",
       " ('optimizer_status', <OptimizersStatusOneOf.OK: 'ok'>),\n",
       " ('vectors_count', 13),\n",
       " ('indexed_vectors_count', 0),\n",
       " ('points_count', 13),\n",
       " ('segments_count', 2),\n",
       " ('config',\n",
       "  CollectionConfig(params=CollectionParams(vectors=VectorParams(size=384, distance=<Distance.COSINE: 'Cosine'>, hnsw_config=None, quantization_config=None, on_disk=None), shard_number=1, replication_factor=1, write_consistency_factor=1, read_fan_out_factor=None, on_disk_payload=True), hnsw_config=HnswConfig(m=16, ef_construct=100, full_scan_threshold=10000, max_indexing_threads=0, on_disk=False, payload_m=None), optimizer_config=OptimizersConfig(deleted_threshold=0.2, vacuum_min_vector_number=1000, default_segment_number=0, max_segment_size=None, memmap_threshold=None, indexing_threshold=20000, flush_interval_sec=5, max_optimization_threads=1), wal_config=WalConfig(wal_capacity_mb=32, wal_segments_ahead=0), quantization_config=None)),\n",
       " ('payload_schema', {})]"
      ]
     },
     "execution_count": 7,
     "metadata": {},
     "output_type": "execute_result"
    }
   ],
   "source": [
    "list(qdrant.get_collection(collection_name=\"my_books\"))"
   ]
  },
  {
   "cell_type": "code",
   "execution_count": 4,
   "metadata": {},
   "outputs": [],
   "source": [
    "qdrant.upload_records(\n",
    "\tcollection_name=\"my_books\",\n",
    "\trecords=[\n",
    "\t\tmodels.Record(\n",
    "\t\t\tid=idx,\n",
    "\t\t\tvector=encoder.encode(doc[\"description\"]).tolist(),\n",
    "\t\t\tpayload=doc\n",
    "\t\t) for idx, doc in enumerate(documents)\n",
    "\t]\n",
    ")"
   ]
  },
  {
   "cell_type": "code",
   "execution_count": 5,
   "metadata": {},
   "outputs": [
    {
     "name": "stdout",
     "output_type": "stream",
     "text": [
      "{'year': 1898, 'description': 'A Martian invasion of Earth throws humanity into chaos.', 'author': 'H.G. Wells', 'name': 'The War of the Worlds'} score: 0.5700932741165161\n",
      "{'description': 'A comedic science fiction series following the misadventures of an unwitting human and his alien friend.', 'year': 1979, 'author': 'Douglas Adams', 'name': \"The Hitchhiker's Guide to the Galaxy\"} score: 0.5040467977523804\n",
      "{'description': 'Humans encounter an alien civilization that lives in a dying system.', 'year': 2008, 'author': 'Liu Cixin', 'name': 'The Three-Body Problem'} score: 0.45902931690216064\n"
     ]
    }
   ],
   "source": [
    "hits = qdrant.search(\n",
    "\tcollection_name=\"my_books\",\n",
    "\tquery_vector=encoder.encode(\"alien invasion\").tolist(),\n",
    "\tlimit=3\n",
    ")\n",
    "for hit in hits:\n",
    "\tprint(hit.payload, \"score:\", hit.score)"
   ]
  },
  {
   "cell_type": "code",
   "execution_count": null,
   "metadata": {},
   "outputs": [],
   "source": []
  }
 ],
 "metadata": {
  "kernelspec": {
   "display_name": "llms",
   "language": "python",
   "name": "python3"
  },
  "language_info": {
   "codemirror_mode": {
    "name": "ipython",
    "version": 3
   },
   "file_extension": ".py",
   "mimetype": "text/x-python",
   "name": "python",
   "nbconvert_exporter": "python",
   "pygments_lexer": "ipython3",
   "version": "3.11.5"
  }
 },
 "nbformat": 4,
 "nbformat_minor": 2
}
