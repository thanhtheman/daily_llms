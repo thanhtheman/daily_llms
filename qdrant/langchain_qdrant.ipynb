{
 "cells": [
  {
   "cell_type": "code",
   "execution_count": null,
   "metadata": {},
   "outputs": [],
   "source": [
    "from qdrant_client import QdrantClient\n",
    "from langchain.vectorstores import Qdrant\n",
    "from langchain.embeddings import OpenAIEmbeddings\n",
    "from dotenv import load_dotenv\n",
    "load_dotenv()"
   ]
  },
  {
   "cell_type": "code",
   "execution_count": 3,
   "metadata": {},
   "outputs": [],
   "source": [
    "client = QdrantClient(path=\"./qdrant_storage/\")\n",
    "embeddings = OpenAIEmbeddings()"
   ]
  },
  {
   "cell_type": "code",
   "execution_count": 5,
   "metadata": {},
   "outputs": [],
   "source": [
    "collection = \"toronto_sf\""
   ]
  },
  {
   "cell_type": "code",
   "execution_count": 13,
   "metadata": {},
   "outputs": [],
   "source": [
    "qdrant=Qdrant(client=client, collection_name=collection, embeddings=embeddings)"
   ]
  },
  {
   "cell_type": "code",
   "execution_count": 14,
   "metadata": {},
   "outputs": [
    {
     "data": {
      "text/plain": [
       "CollectionInfo(status=<CollectionStatus.GREEN: 'green'>, optimizer_status=<OptimizersStatusOneOf.OK: 'ok'>, vectors_count=258, indexed_vectors_count=0, points_count=258, segments_count=1, config=CollectionConfig(params=CollectionParams(vectors=VectorParams(size=1536, distance=<Distance.COSINE: 'Cosine'>, hnsw_config=None, quantization_config=None, on_disk=None), shard_number=None, replication_factor=None, write_consistency_factor=None, read_fan_out_factor=None, on_disk_payload=None), hnsw_config=HnswConfig(m=16, ef_construct=100, full_scan_threshold=10000, max_indexing_threads=0, on_disk=None, payload_m=None), optimizer_config=OptimizersConfig(deleted_threshold=0.2, vacuum_min_vector_number=1000, default_segment_number=0, max_segment_size=None, memmap_threshold=None, indexing_threshold=20000, flush_interval_sec=5, max_optimization_threads=1), wal_config=WalConfig(wal_capacity_mb=32, wal_segments_ahead=0), quantization_config=None), payload_schema={})"
      ]
     },
     "execution_count": 14,
     "metadata": {},
     "output_type": "execute_result"
    }
   ],
   "source": [
    "client.get_collection(collection_name=collection)"
   ]
  },
  {
   "cell_type": "code",
   "execution_count": 15,
   "metadata": {},
   "outputs": [
    {
     "data": {
      "text/plain": [
       "[Document(page_content=\"The 2020 United States census showed San Francisco's population to be 873,965, an increase of 8.5% from the 2010 census. With roughly one-quarter the population density of Manhattan, San Francisco is the second-most densely populated large American city, behind only New York City among cities greater than 200,000 population, and the fifth-most densely populated U.S. county, following only four of the five New York City boroughs.  \\nSan Francisco is part of the five-county San Francisco–Oakland–Hayward, CA Metropolitan Statistical Area, a region of 4.7\\xa0million people (13th most populous in the U.S.), and has served as its traditional demographic focal point. It is also part of the greater 14-county San Jose-San Francisco-Oakland, CA Combined Statistical Area, whose population is over 9.6\\xa0million, making it the fifth-largest in the United States as of 2018.\", metadata={'Header 2': 'Demographics'})]"
      ]
     },
     "execution_count": 15,
     "metadata": {},
     "output_type": "execute_result"
    }
   ],
   "source": [
    "qdrant.similarity_search(\"population of San Francisco\", k=1)"
   ]
  },
  {
   "cell_type": "code",
   "execution_count": 16,
   "metadata": {},
   "outputs": [],
   "source": [
    "from langchain.text_splitter import HTMLHeaderTextSplitter, RecursiveCharacterTextSplitter"
   ]
  },
  {
   "cell_type": "code",
   "execution_count": 18,
   "metadata": {},
   "outputs": [
    {
     "data": {
      "text/plain": [
       "304"
      ]
     },
     "execution_count": 18,
     "metadata": {},
     "output_type": "execute_result"
    }
   ],
   "source": [
    "with open('../langchain/lcel/custom_embedding/data/Houston.txt', 'r') as f:\n",
    "    html_toronto = f.read()\n",
    "with open('../langchain/lcel/custom_embedding/data/New_York_City.txt', 'r') as f:\n",
    "    html_sf = f.read()\n",
    "headers_to_split_on = [\n",
    "    (\"h1\", \"Header 1\"),\n",
    "    (\"h2\", \"Header 2\"),\n",
    "    (\"h3\", \"Header 3\"),\n",
    "]\n",
    "html_splitter = HTMLHeaderTextSplitter(headers_to_split_on=headers_to_split_on)\n",
    "houston_header_splits = html_splitter.split_text(html_toronto)\n",
    "nyc_header_splits = html_splitter.split_text(html_sf)\n",
    "\n",
    "houston_header_splits[0].metadata = {\"Header2\": \"Overview\", \"Header 3\": \"population\"}\n",
    "nyc_header_splits[0].metadata = {\"Header2\": \"Overview\", \"Header 3\": \"population\"}\n",
    "total_headers = houston_header_splits + nyc_header_splits\n",
    "len(total_headers)\n",
    "text_splitter = RecursiveCharacterTextSplitter(chunk_size=1024, chunk_overlap=80)\n",
    "texts = text_splitter.split_documents(total_headers)\n",
    "len(texts)"
   ]
  },
  {
   "cell_type": "code",
   "execution_count": 19,
   "metadata": {},
   "outputs": [
    {
     "data": {
      "text/plain": [
       "['a3d96abfec07499b995673600a31ed4c',\n",
       " 'e14ae8f38c5249c18a0109444da82b8e',\n",
       " '33fcea877ad24341b39c3dbeae4f4951',\n",
       " '34536d9b86c2456e9e360524a87c7906',\n",
       " '4bd20c8e9de24432b877f459758f1426',\n",
       " '8e506012b53a430b84500d637c84fa77',\n",
       " 'f8384c058862422c928b2d4f08e4a580',\n",
       " '246a57c37df1402f9e2e2f96f20cfe63',\n",
       " 'a0bb5e13f48f4e6eaf014649e6f1c88e',\n",
       " '22428c3fa0bf48eaaa70f9d4571b4898',\n",
       " '9b40f797783a465fa8ae652a0ac269d8',\n",
       " '3ee7d77317f741b3b3145d737f61d6e1',\n",
       " 'edd9acdfeed2486cbc4d7c0ec66419ca',\n",
       " 'd58b956709044c95a56919e83fe64ee7',\n",
       " '7f9e89ff700a4c5581d0af93e860608b',\n",
       " '7754b48bbee6485d9faa62e17b8af29b',\n",
       " 'cf82809af54d4a1889c3f277ac83e30e',\n",
       " 'aaf7d3a6bfef4a279e0f24546de58032',\n",
       " 'b02d97805dd144ee9f749e8db338fb5f',\n",
       " 'a727be2853d34691997c3f2ee5e381d7',\n",
       " '2bec236cb516420fbe41e28eee05f9df',\n",
       " '32e9514a19ef47fbabf11e892c44c9b3',\n",
       " '28d739227fd74ca0b0186dcbc5e3647c',\n",
       " '9af18edaf0a84e1d9a61cb08d4f25375',\n",
       " '67d914d2a8ed408dae8689cd89d37391',\n",
       " 'f1367114facf40cb97c7d6bc1909cc78',\n",
       " 'af9ae7a729284fbfa3a72e83928a490f',\n",
       " '37084ebfb9024f368e68a022b8565335',\n",
       " 'c9c8f05bc41341e1ab9453c7ed08f6fa',\n",
       " '3cffac1866794bb4b161da048d2f7f99',\n",
       " '155bb4edf2fb46459de921e76e3ad157',\n",
       " 'ce5a59f154a1478b8549c3ac3ae2e928',\n",
       " '89b9e38c99974cf2acb660cd4552ca4c',\n",
       " '24abec1bd8c04ba4b34ad18312dfbab4',\n",
       " '466b410a1af047edb8b946cb5dc9c37c',\n",
       " 'ecf12f7c369345b9967027e9c0596a85',\n",
       " '944fbabc19bc4c3e9840f3534c9e770c',\n",
       " 'bfad9263fc914cd0927a1fd5addbf2b2',\n",
       " '51b26af4f22049a3abae5f607447707c',\n",
       " '2906ca1cd11f401999cc86485603ae25',\n",
       " '9f5c8ae81895468c9d3f503398ea80d1',\n",
       " 'cb7b6f878c944db08ced08bff847da3e',\n",
       " '47993fbeacfd454a8e6b66bf12c6bb0f',\n",
       " '27b895e8f0fe4e4d99e27eb27305bdae',\n",
       " '8e3dd66995894ca2b4135d517af6c336',\n",
       " '5161dcf11cd8457798d60e2bc1ebe41e',\n",
       " '68194e4f3a3b46eab8718fd6a35770f7',\n",
       " '19c2491605194299a34f675fe113972d',\n",
       " '82c2846462984d1b9ff0c63842e6bb94',\n",
       " 'd39b917201bc48119346bc2124ad34b0',\n",
       " '9899a960b6dd49d2b35bb14b00897c10',\n",
       " 'c7302071247641ef9fff3f1a1562ee0a',\n",
       " 'c8f5759f07a74a2ca4e1c063b2683e13',\n",
       " '5d8716d7bbf14a2f8e2720b7b45877f2',\n",
       " 'bdd7ab0688fd454bbda928643ee6924c',\n",
       " 'd35813c6bb624054a9c416d485675c90',\n",
       " '678109a87f7e4204a8f99119cb1e9b32',\n",
       " 'c8f41152bebd42a388301e6432ddb027',\n",
       " 'c0c22a7665fb4bfe97aeae841c7260b9',\n",
       " 'af3311e8faab4cfe8e7ca44c10382948',\n",
       " 'eab8dd0ae0984c8eaae8c2018dcd6cf9',\n",
       " '54b2c8139792424595ad853d033ac3ca',\n",
       " 'a0d9fa7116b448f8bc5150eddc0c58f1',\n",
       " '20965e73e70c4dd18096a4e6fc4f4211',\n",
       " 'b8de8ff326dd40118be17a1754f59e6a',\n",
       " '5b84e061e5914b1ca040021b8d6d69d2',\n",
       " '5975424f64e54901aec546b423f0248a',\n",
       " 'da27aac4e80f4e2faf1ec6ac5f477c1e',\n",
       " '6158a67ab81c4acda9aac875cf1ebb71',\n",
       " '333255f3ad2c4629a0f4e34ee541eaf6',\n",
       " '28d0c0fc7b694d6cb2d8470356a2e068',\n",
       " '874a7749eaef4d018d3b5ee65774ff1a',\n",
       " 'f20fa5e93c7b498ca1f603b767a5954d',\n",
       " '567a4b903f0040799d895204a04d693a',\n",
       " 'cb8dce3eb7c44bd79b96bf9e9e2a6498',\n",
       " '94189aa545664aa49f05b793a3098424',\n",
       " 'b7e201fd78ab4aceb91781a3ff5088e9',\n",
       " 'cf67b18d69e642db873417d246db3216',\n",
       " '892e261d26da47c6b8bf5e6c50ebaac0',\n",
       " '849301221fe7485192d00391ae380926',\n",
       " '1ed4f7892b1643d1abbe4c4a73b1706e',\n",
       " 'd1837b4a4dc14c9d886641ba7d389d84',\n",
       " '696489e035d04d41b89f18e3a1fa594f',\n",
       " '354c0ad571dc446f8618ec6d706f33e7',\n",
       " '35c378d976ae4ab78f58044fca7ebf02',\n",
       " '945c7ea875924feb8a85fe8a8b1b1bef',\n",
       " '77096b872b254230a3e62b899cb1a74c',\n",
       " '0d07e43f388e46429131be5496ffd35f',\n",
       " 'c6fa090f7a074292aebc91164f31c09c',\n",
       " '8ece2a0e666a40759d75a6b24a5b56ff',\n",
       " 'b70a6c234138483faaef103af8899392',\n",
       " '109f14020db14612a5730a066c1fd36b',\n",
       " '4964cf27cee34dc19be98667c2b68510',\n",
       " 'e494cf815fb54f5eaa08f099f66f241a',\n",
       " '9c451887db404a6fadf63c7fc129a930',\n",
       " '28b82819ef2642988be55da59d0a5dfe',\n",
       " 'e1f2b8b1f14241599fabff805f3f5098',\n",
       " 'f71a294c942b4f1f814eb24eacb46f82',\n",
       " 'a2cc914b809e4768a3572217128c65f3',\n",
       " 'e13952838af54f3bab69f67185de40b3',\n",
       " '8cfbf6788e2c48c5a34c15b94ff1f4ae',\n",
       " 'f6cc4f93e78c4eae96853e3ad0124575',\n",
       " '3ce0444ab8a048bda0334eadaea49012',\n",
       " '6d925f1864fb44b1b1f44374fcf0c967',\n",
       " '750c80ca0bd2444c82e7c082f4cb5564',\n",
       " 'f5c54493a75f4a93a3e89882a82d0708',\n",
       " 'e560d688e9ad4b8690a6a6cac06cb4e8',\n",
       " '01074e63a9f54d08bf13298bd615aa2c',\n",
       " '8df82b86455d4d75b87c7672904f140b',\n",
       " '08878d9c95644d868d91dfc457d810a5',\n",
       " '4afda79610bc4b1fa11b99b8d0ec9724',\n",
       " '96deec923ec34b0eabdd76901e70f5b4',\n",
       " 'c3eb632bd84649309ced7f0a2a83e21d',\n",
       " 'b8ed021aa6614c7b99012dd138287d00',\n",
       " 'b6328e4fa2084190992dcfd573630c7f',\n",
       " 'b3f0d61397c2433b9206f8cc3dfdbf37',\n",
       " '5a755b091ffd4c308b0a95c4a236142d',\n",
       " 'ad0a0d30d0344386b2d0e866b6219685',\n",
       " 'fd890ddbbe2c4443bd776417c489a59a',\n",
       " 'e255254c33dd4741b2c4599320b9698c',\n",
       " '228589738a8e4318b108d90effb0fa50',\n",
       " 'f10f38730d744808a086ac8480685780',\n",
       " '4f11027fce2a4a4ca8ba3e1856015bdb',\n",
       " '525884dfe52444faaa24c26b69519a56',\n",
       " '6e9718776eff43c39dab8c36ce813fcf',\n",
       " '4d03e338b6924cb1b03275b512d849be',\n",
       " 'd48591622779428e9457911e2440a1fd',\n",
       " '8845de4c0e8742258fac30e2f196c7ca',\n",
       " '4722f016cf314768a0dffea22d400139',\n",
       " '9ad3a09a2ee049debd1fbd75c2927afe',\n",
       " '0dad99ecca10456db225a7c6a2937e69',\n",
       " '1eb37cb7f8ec47499cadd7fa551a6b57',\n",
       " 'd15aac34946b40038f05aebef19798d5',\n",
       " 'b490994a4e3b4f8b869b82078b3b49a2',\n",
       " 'b982f607dde14de0b076876c66217026',\n",
       " 'cfe4f72f03554b80aa440da3fb9ca800',\n",
       " '1598b1099cd84158a8ce36e310aa3c84',\n",
       " '2a1e61bfe72a4567bc96b60d7df0808b',\n",
       " '81db6991e22a43a3ad61893a8a7d4cf0',\n",
       " '56dbf21b0ad441e1802449645277d74f',\n",
       " '930d0d8a9b53481da82d4e84d6605ff8',\n",
       " 'bccb71e5c0db42c2b0edbff209019094',\n",
       " 'c843c4b4657844f2a03ecfd81934f891',\n",
       " 'cdf0a1426f6a439f86f9c7d4881fb981',\n",
       " 'cdeae95843ab47f4a4e97b7237db5ee5',\n",
       " 'cc035b69bf014f07a6e017ba59323952',\n",
       " '6f05a965eb31412db5eac19bf98e152f',\n",
       " '1cf58b91ba6c4a23a8bf52291b74f860',\n",
       " 'ed9528a260a14146bc164c44446dceb9',\n",
       " 'fd6c7625ab0f471d8322d302fadfd7c5',\n",
       " 'f3108095c7d848b88796a4d8053a124a',\n",
       " '995af4e2ab824fc08d9f44d22f89e0e2',\n",
       " 'bccd26b34811475793f8dea8dead9687',\n",
       " '054ef878a4e0482d96c1dad2faef3415',\n",
       " 'e76b6fd7e77c40c49fd0eb10ce118f13',\n",
       " '9c462bfcefb4490085ff23c287718205',\n",
       " '7d0d19a5dd9f49b5a51dcf52fa81c6a7',\n",
       " 'a8506c6e8ab0499b8eb1b7502715a084',\n",
       " '6e7851c7ceac417b8cb5a571d54d6899',\n",
       " 'b8035630a61448c9a206faf06ef3e9d4',\n",
       " '673ec59f590e407f9f66c1a1cea78bcc',\n",
       " '4fb451bed3b8499ea066efd1cc7b5869',\n",
       " 'b262f753229f463b851e316f9abe8457',\n",
       " '22689dfcc27f490392534a58dfc984ff',\n",
       " 'effd92454e5346c28f8301a09f576b3c',\n",
       " '4b9c36d3e5c642279125d314b9e8007b',\n",
       " 'b9e79cec23e24f5a86ba2efc8886e7fe',\n",
       " '2171d1fc57a14ddfb069256a2de8d28f',\n",
       " 'a984a5276f7140858a5e71d516565139',\n",
       " 'ea20adb8f86c47beafc71a2ffd49852d',\n",
       " 'f9d7b9c5a6da46f7a9fc2d0144e890bf',\n",
       " 'f2c089662ad64ba3bdc8fffe63b97ca9',\n",
       " '66f8e2c207134cfeaaace45e58100472',\n",
       " '78050f95acb242619d93037ab14b0617',\n",
       " 'a269a7f076494da09622a1728ab03cb5',\n",
       " '39095411557243d382b4e1b162c36581',\n",
       " '0b0f424e0b194fbdaafc3412e9d041ea',\n",
       " 'ed22a9ce600d4a32b282a929468cb2f2',\n",
       " '5f4fac7021044597b785b7245c1d991a',\n",
       " 'ee3862b71acf4529aff1551f8c2233ab',\n",
       " '171aa73b207041519d7dfdf6344343d4',\n",
       " '0384078638474d0086fb45b15f2b36dd',\n",
       " '191f178bfd09418aa4624f7badf84616',\n",
       " '389fc72c5e6a4a71955cbb38a9e6530b',\n",
       " '734d22b4ad3a4619873f7c90bd11219c',\n",
       " 'c3205325ff884311805a466c19bd2c5d',\n",
       " '1776be8327124205b97acdc743ee62d1',\n",
       " '6df5e657e6d24a5480f201030e589b77',\n",
       " '58fa1dcfc9c04788a8e21a10a6bd7bbb',\n",
       " '7dcaf754945541c4999a57ecf1de3469',\n",
       " 'cde3829f7329423f97e1c87fe4984aae',\n",
       " '2ee86e60914248bcbc1c5b630e3485d2',\n",
       " '5ab390fb912541639e430506091eb763',\n",
       " '8f55ec83d3264e6b9f5ee8e011bc236b',\n",
       " '524f5d3e7e1146fca432e9622f4644c1',\n",
       " 'f82ca7a3ef724ce4a3c519f76b7c0aa1',\n",
       " 'b60ea3ed33544df09bff48b3e67df043',\n",
       " '29a06c9245bb4f52b0e7806cc83ce11f',\n",
       " '0c5730b515db4b44b69b6cfa990c0260',\n",
       " 'c0f18c03c6154980a51cd81d1e38d9b5',\n",
       " 'ba24734f5474404297d658a82e68617b',\n",
       " '89c590f754b44f37a43da3dbf4beb72f',\n",
       " '2658b37d07e94f58b81731a5e3d591b5',\n",
       " '5ebd6274d2da45e59a998dbd0ed2f744',\n",
       " 'e220c47441904de2a6c103dd7c28d00f',\n",
       " '7fc7c7a83a93482d85c3e29ba4e63c4c',\n",
       " '10aaa2c98bd14210a31eb2316b003dc3',\n",
       " '561b503cbbfc4f89a04b9134ca23c5a7',\n",
       " 'acd9268e8c0543d98cca3c0f8bfbdcc4',\n",
       " 'c4c385149d4e4f45b0767433d965b0eb',\n",
       " 'abf804f13bc04c49b86bedbd474f4197',\n",
       " 'e73631c53d6642b7a5a12be1ff021afc',\n",
       " '770514fa75e64bd48baec5b647b964ab',\n",
       " 'a916d36014254aaba520af75505704c6',\n",
       " '06988f150e844123975cd64f8cd16da3',\n",
       " 'bee23f520728416ea126aebbbc443659',\n",
       " '38b88e595b634e46bb9b81284f34efad',\n",
       " '481c5a68d1564b8c88a49ce55e9f45ff',\n",
       " 'ce1786b3afb64247ad4e8873b6d4a504',\n",
       " 'de3d279e2bad4248b7ff9a33fe497472',\n",
       " '3fce75e0ffc64590899f9c2d045c50ae',\n",
       " 'c044cd4df1ea4e6b8d673d6daf387181',\n",
       " '48686ca9f7274cf699d89752f7834e8d',\n",
       " '9c9b2cfc7dc442a38adcbfe68b6d97ab',\n",
       " '7e977603d1474b2583b303dcb9e14877',\n",
       " 'aa1390aba4374f79aba46d15df79c660',\n",
       " '3a7e7db9afa24d238b4d363d74d59635',\n",
       " 'db4325f2f36f4c8ea08b9fcaabab789f',\n",
       " '1b79b3778e7943fda014dd56fe5dd73f',\n",
       " '108487e94ac34df19b891a0f1ec3371a',\n",
       " '9e19955593174165933fd6e66c331118',\n",
       " 'b1c03776f6c14b6284ea863a6bb8a854',\n",
       " '0665ca760b1f4d4c954ed49c4279754f',\n",
       " '19b66d561be34b659af20cc343f2c3af',\n",
       " 'b6da8f7bdb2a451dbe9cd4ef664c9c8f',\n",
       " '2cc3da9fdfba4157baf6ea75e2820ad2',\n",
       " 'b72745a4d347484d90cbd417a34c8d42',\n",
       " '90478c761aab4a9d8c7f7803f8bc97e0',\n",
       " '5f43f806d3db429796828fa811d1b946',\n",
       " 'b178a271e2f047319d09aa267e3a1659',\n",
       " 'e495ae5cf8494ba8aa6eb6ec5ab0f6e0',\n",
       " '9254cf341e304246ba469fffd6ee865f',\n",
       " 'e56224bcc77c439aabb627e1aa4d74e1',\n",
       " '80c8e9b8fd43412481bd837e62790569',\n",
       " 'ad04796788034f65a0da53809dface37',\n",
       " '67a678ebea40428eb75f1debfa90a1e2',\n",
       " 'a1e1600171774b1795fcbf9508e8be59',\n",
       " '9ab043177812445a814046fefa4e1020',\n",
       " '47dd4d9370a64c16a3da0b07e8853f4b',\n",
       " 'cc8cb2e95e92461b89dc9a232edd96db',\n",
       " '995e24908fc54d5f884b42d9be69eb7d',\n",
       " 'ae7a76af8f384b65afe93aabb87d8b8e',\n",
       " 'db6a8c89962547c1ba45e76bffce2963',\n",
       " '3fcdcc57f32b4c4ca4ed271343ff6cf8',\n",
       " '1f0ee644f45d46be9524f593d37346b5',\n",
       " '8508aaff3b5842d7a058b09013d9c8c1',\n",
       " '00a150acc1fb496691755ab5ea75b8b1',\n",
       " '19664b48f7844406933aa148514c9af6',\n",
       " 'c46b31c4aa404e9894994c9d43f6dc6b',\n",
       " 'e2cc7e43bacc4ebba3adb1c08b3a610a',\n",
       " 'a18bdbce4ed04aed8ba24c79c80a1599',\n",
       " '6c9961e75a1442759453b21c0aba89d4',\n",
       " '0290afd399c148e1876df53ec88d08ea',\n",
       " '45df20e55cf94c71bda1cd319ff4c6c4',\n",
       " '2ced6d7c0db0484c839461f4cd2454ce',\n",
       " 'e2b51dfa69cf481eb5a3a5408ee97afd',\n",
       " '92535cfacbdb4477b65019d5f5a1dc78',\n",
       " '909fecd456b3496db0e8630529e6bb79',\n",
       " '5705fa5f81d64a6bb63be30fb661ba99',\n",
       " 'b57dd770908246edb61d1e3e111896d4',\n",
       " 'beb7dd002d004b17bfff5fe16d218350',\n",
       " '0f9ff94f557e480daf0de4c71d565782',\n",
       " '5dfbfeac82754b528a02f19f3e5aa218',\n",
       " '27c33b9fdfa1436b90761631858805c4',\n",
       " '5e53c35bd50240bbaafc06fc9a977eac',\n",
       " '0378cff0cd20487dbd8c84cd9d44606b',\n",
       " '437d426f358945efb20d07dfef3ed7ec',\n",
       " '74e5730847dc4bf4b867a4624041dd35',\n",
       " '517c4eb86e444e44a09f40d31dee1f98',\n",
       " '37d12eec7719452da3ed02222d3b9e8a',\n",
       " '835f369a058d4333b0b2a58c2b563cab',\n",
       " '22841a2183684b8fa3d2488b8f30beb1',\n",
       " '14368211a92d44168ea15f5b3d28c93b',\n",
       " '0fa58df4382b4e8e9dc9ba7ed1e53f5f',\n",
       " '2e0651544f1746ea8a4148afee99e65d',\n",
       " '40bc50207da649d5ae385e8c0510b20c',\n",
       " '8dfd17bff0bc4dd686d974317f8a7c46',\n",
       " '6727b60c132a48c5bd21d85730e89754',\n",
       " 'f9fec01ef8b34e76a5b9be6e2f710ab4',\n",
       " '69797361c42b49bbbe7d95b04abec04a',\n",
       " 'eed1be4fbad846ae8024522994be2e75',\n",
       " 'be1683b2448148baaeaeaccfb0c8120b',\n",
       " '488cda62aa744fc6891e2001e5597fb5',\n",
       " 'd0b7ed7ad84e4b8dbca73682260030f6',\n",
       " '66b0baf9b18c47cbb1b1226eb04f8bfa',\n",
       " 'f38b0b9db9a6408ca185252d763d9af6',\n",
       " '39149761e83c4ee6952c804c52f269a4',\n",
       " '0ab03abf4a6a42d4bb729d67a8df97e7',\n",
       " '7942af526de540af86ba07f49ae9310b',\n",
       " 'eaceb2cdb59a4d978afecc970201c26b',\n",
       " '6d4f906a35a747828c28ce435b49d447',\n",
       " '753d3db89551454c91d85c3f0204590b',\n",
       " '01265a0d5db84de9a444f6c73f00d2c7',\n",
       " '130f79ed3e654deeb1e83080c7e39bd5']"
      ]
     },
     "execution_count": 19,
     "metadata": {},
     "output_type": "execute_result"
    }
   ],
   "source": [
    "qdrant.add_documents(texts)"
   ]
  },
  {
   "cell_type": "code",
   "execution_count": 20,
   "metadata": {},
   "outputs": [
    {
     "data": {
      "text/plain": [
       "[Document(page_content=\"The 2020 U.S. census determined Houston had a population of 2,304,580. In 2017, the census-estimated population was 2,312,717, and in 2018 it was 2,325,502. An estimated 600,000 undocumented immigrants resided in the Houston area in 2017, comprising nearly 9% of the city's metropolitan population. At the 2010 United States census, Houston had a population of 2,100,263 residents, up from the city's 2,396 at the 1850 census.\", metadata={'Header 2': 'Demographics'})]"
      ]
     },
     "execution_count": 20,
     "metadata": {},
     "output_type": "execute_result"
    }
   ],
   "source": [
    "qdrant.similarity_search(\"population of Houston\", k=1)"
   ]
  },
  {
   "cell_type": "code",
   "execution_count": 23,
   "metadata": {},
   "outputs": [
    {
     "name": "stdout",
     "output_type": "stream",
     "text": [
      "{'Header2': 'Overview', 'Header 3': 'population'}\n"
     ]
    }
   ],
   "source": [
    "print(texts[0].metadata)"
   ]
  },
  {
   "cell_type": "code",
   "execution_count": 24,
   "metadata": {},
   "outputs": [
    {
     "data": {
      "text/plain": [
       "CountResult(count=562)"
      ]
     },
     "execution_count": 24,
     "metadata": {},
     "output_type": "execute_result"
    }
   ],
   "source": [
    "client.count(collection_name=collection)"
   ]
  },
  {
   "cell_type": "code",
   "execution_count": 31,
   "metadata": {},
   "outputs": [
    {
     "data": {
      "text/plain": [
       "([Record(id='00a150acc1fb496691755ab5ea75b8b1', payload={'page_content': 'Broadway theatre is one of the premier forms of English-language theatre in the world, named after Broadway, the major thoroughfare that crosses Times Square, sometimes referred to as \"The Great White Way\". Forty-one venues in Midtown Manhattan\\'s Theatre District, each with at least 500 seats, are classified as Broadway theatres. According to The Broadway League, Broadway shows sold approximately $1.27\\xa0billion worth of tickets in the 2013–2014 season, an 11.4% increase from $1.139\\xa0billion in the 2012–2013 season. Attendance in 2013–2014 stood at 12.21\\xa0million, representing a 5.5% increase from the 2012–2013 season\\'s 11.57\\xa0million. Performance artists displaying diverse skills are ubiquitous on the streets of Manhattan.', 'metadata': {'Header 2': 'Culture', 'Header 3': 'Arts'}}, vector=None),\n",
       "  Record(id='00ef8ffa519e43a79272ab93887a8353', payload={'page_content': 'Some of the most popular tourist attractions in San Francisco, as noted by the Travel Channel, include the Golden Gate Bridge and Alamo Square Park, home to the famous \"Painted Ladies\". Both of these locations were often used as landscape shots for the hit American television sitcom Full House. There is also Lombard Street, known for its \"crookedness\" and extensive views. Tourists also visit Pier 39, which offers dining, shopping, entertainment, and views of the bay, sunbathing California sea lions, the Aquarium of the Bay, and the famous Alcatraz Island.  \\nSan Francisco also offers tourists cultural and unique nightlife in its neighborhoods.  \\nThe new Terminal Project at Pier 27 opened September 25, 2014, as a replacement for the old Pier 35. Itineraries from San Francisco usually include round-trip cruises to Alaska and Mexico.', 'metadata': {'Header 2': 'Economy', 'Header 3': 'Tourism and conventions'}}, vector=None),\n",
       "  Record(id='01074e63a9f54d08bf13298bd615aa2c', payload={'page_content': 'Greater Houston possesses a hub-and-spoke limited-access highway system, in which a number of freeways radiate outward from Downtown, with ring roads providing connections between these radial highways at intermediate distances from the city center. The city is crossed by three Interstate highways, Interstate 10, Interstate 45, and Interstate 69 (commonly known as U.S. Route 59), as well as a number of other United States routes and state highways. Major freeways in Greater Houston are often referred to by either the cardinal direction or geographic location they travel towards. Highways that follow the cardinal convention include U.S. Route 290 (Northwest Freeway), Interstate 45 north of Downtown (North Freeway), Interstate 10 east of Downtown (East Freeway), Texas State Highway 288 (South Freeway), and Interstate 69 south of Downtown (Southwest Freeway). Highways that follow the location convention include Interstate 10 west of Downtown (Katy Freeway), Interstate 69 north of Downtown (Eastex Freeway),', 'metadata': {'Header 2': 'Transportation', 'Header 3': 'Roadways'}}, vector=None),\n",
       "  Record(id='01265a0d5db84de9a444f6c73f00d2c7', payload={'page_content': '(2005). Empire City: New York Through the Centuries. Columbia University Press. ISBN\\xa0978-0-231-10909-3. Lankevich, George L. (1998). American Metropolis: A History of New York City. NYU Press. ISBN\\xa0978-0-8147-5186-2. White, E.B. (1949). Here is New York (2000 reissue\\xa0ed.). Little Bookroom. White, Norval & Willensky, Elliot (2000). AIA Guide to New York City (4th\\xa0ed.). New York: Three Rivers Press. ISBN\\xa0978-0-8129-3107-5. Whitehead, Colson (2003). The Colossus of New York: A City in 13 Parts. Doubleday. ISBN\\xa0978-0-385-50794-3.', 'metadata': {'Header 2': 'Further reading'}}, vector=None),\n",
       "  Record(id='01336aeab3324e59a9671cf2af594125', payload={'page_content': \"Since the 1990s, the demand for skilled information technology workers from local startups and nearby Silicon Valley has attracted white-collar workers from all over the world and created a high standard of living in San Francisco. Many neighborhoods that were once blue-collar, middle, and lower class have been gentrifying, as many of the city's traditional business and industrial districts have experienced a renaissance driven by the redevelopment of the Embarcadero, including the neighborhoods South Beach and Mission Bay. The city's property values and household income have risen to among the highest in the nation, creating a large and upscale restaurant, retail, and entertainment scene. According to a 2014 quality of life survey of global cities, San Francisco has the highest quality of living of any U.S. city. However, due to the exceptionally high cost of living, many of the city's middle and lower-class families have been leaving the city for the outer suburbs of the Bay Area,\", 'metadata': {'Header 2': 'Arts and culture'}}, vector=None),\n",
       "  Record(id='01b6f40d0c3e48cb9b60b56227fd1d70', payload={'page_content': 'The total number of homicides in Toronto reached a record 98 in 2018; the number included fatalities from the Toronto van attack and the Danforth shooting, which gave the city a homicide rate of around 3.6 per 100,000 people. The record year for per capita murders was previously 1991, with 3.9 murders per 100,000 people. The 2018 homicide rate was higher than in Winnipeg, Calgary, Edmonton, Vancouver, Ottawa, Montreal, Hamilton, New York City, San Diego, and Austin. Homicides in 2019 dropped to 80 (a rate of 2.9 per 100,000 people) below the rate of most US cities, but still higher than the Canadian average of 1.8. Shooting incidents also increased to an all-time high of 492 in 2019, even outpacing gun incidents that occurred in 2018. 2020 saw another decrease in homicides with the city having a total of 71 murders for the year (a rate of around 2.6 per 100,000 people). However, in 2021, the city saw an increase in homicides, with the city murders increasing to 85, giving Toronto a', 'metadata': {'Header 2': 'Government and politics', 'Header 3': 'Crime'}}, vector=None),\n",
       "  Record(id='0290afd399c148e1876df53ec88d08ea', payload={'page_content': 'The New York area is home to a distinctive regional accent and speech pattern called the New York dialect, alternatively known as Brooklynese or New Yorkese. It has been considered one of the most recognizable accents within American English. The traditional New York area speech pattern is known for its rapid delivery, and its accent is characterized as non-rhotic so that the sound [ɹ] does not appear at the end of a syllable or immediately before a consonant, therefore the pronunciation of the city name as \"New Yawk\". The classic version of the New York City dialect is centered on middle- and working-class New Yorkers. The influx of non-European immigrants in recent decades has led to changes in this distinctive dialect, and the traditional form of this speech pattern is no longer as prevalent.', 'metadata': {'Header 2': 'Culture', 'Header 3': 'Accent and dialect'}}, vector=None),\n",
       "  Record(id='0378cff0cd20487dbd8c84cd9d44606b', payload={'page_content': 'New York\\'s high rate of public transit use, more than 200,000 daily cyclists as of 2014, and many pedestrian commuters make it the most energy-efficient major city in the United States. Walk and bicycle modes of travel account for 21% of all modes for trips in the city; nationally the rate for metro regions is about 8%. In both its 2011 and 2015 rankings, Walk Score named New York City the most walkable large city in the United States, and in 2018, Stacker ranked New York the most walkable U.S. city. Citibank sponsored public bicycles for the city\\'s bike-share project, which became known as Citi Bike, in 2013. New York City\\'s numerical \"in-season cycling indicator\" of bicycling in the city had hit an all-time high of 437 when measured in 2014.', 'metadata': {'Header 2': 'Environment', 'Header 3': 'Environmental impact reduction'}}, vector=None),\n",
       "  Record(id='0384078638474d0086fb45b15f2b36dd', payload={'page_content': 'Under the Köppen climate classification, New York City has a humid subtropical climate (Cfa), and is the northernmost major city on the North American continent with this categorization. The suburbs to the immediate north and west are in the transitional zone between humid subtropical and humid continental climates (Dfa). Annually, the city averages 234 days with at least some sunshine.', 'metadata': {'Header 2': 'Geography', 'Header 3': 'Climate'}}, vector=None),\n",
       "  Record(id='052591ec48a24d40b85b3b527ab188ce', payload={'page_content': \"In the decades after World War II, refugees from war-torn Europe and Chinese job-seekers arrived, as well as construction labourers, particularly from Italy and Portugal. Toronto's population grew to more than one million in 1951 when large-scale suburbanization began and doubled to two million by 1971. Following the elimination of racially based immigration policies by the late 1960s, Toronto became a destination for immigrants from all parts of the world. By the 1980s, Toronto had surpassed Montreal as Canada's most populous city and chief economic hub. During this time, in part owing to the political uncertainty raised by the resurgence of the Quebec sovereignty movement, many national and multinational corporations moved their head offices from Montreal to Toronto and Western Canadian cities.\", 'metadata': {'Header 2': 'History', 'Header 3': '20th century'}}, vector=None)],\n",
       " '054ef878a4e0482d96c1dad2faef3415')"
      ]
     },
     "execution_count": 31,
     "metadata": {},
     "output_type": "execute_result"
    }
   ],
   "source": [
    "client.scroll(collection_name=collection)"
   ]
  },
  {
   "cell_type": "code",
   "execution_count": 32,
   "metadata": {},
   "outputs": [
    {
     "name": "stdout",
     "output_type": "stream",
     "text": [
      "[-0.01286368747985042, -0.007444602110703561, -0.01758546415034265, -0.028397072636989644, -0.01870115881324813, 0.01741279694178393, -0.01822300475599372, -0.006966447122126556, -0.009934990852368718, -0.0386508337921839, 0.01073855647385229, 0.024093680533764376, -0.013574278235651006, 0.013209021896967866, 0.002090266246274278, 0.01235232804690047, 0.02078644411346969, 0.0007599836240908414, 0.008380987837985396, -0.005282944632646784, 0.00906501447949407, 0.014344638481439041, -0.014118843975619086, 0.01503530638435134, -0.022247473193492618, -0.02515624696808603, 0.006465049115620748, -0.03639287942075843, 0.009244322949456419, -0.009709195415226171, 0.009443554272307053, -0.00843411606656922, -0.004064314143275469, -0.034453698146126276, -0.0009040110913383712, -0.001952464728761999, 0.002282856307721286, -0.021530241176288406, 0.0164299237816606, -0.015553308010027508, 0.0038551216268113394, -6.324549876701557e-05, 0.0032441462996054236, -0.0203614182847991, -0.009682631300934259, -0.007677038343588437, 0.0033454220435509994, -0.026776658871215248, -0.010446350285318668, 0.02018875107624038, 0.024678091048186437, -0.006677562029956043, -0.036419444466372936, -0.004114122206818776, -0.013879766015669289, 0.01782454211029245, 0.0054257266305504865, 0.022858446890883996, 0.010399863318138471, -0.0010750177517155396, -0.028848663511274738, 0.007444602110703561, -0.017054181864504414, 0.007464524963591846, 0.021676343339232625, 0.0025036707988111136, 0.013308637092731888, 0.0021234713891391675, 0.010074452685231904, 0.005389201089814432, 0.031425383528912776, 0.014902485812891782, 0.002349266593451066, -0.0007994147748986444, 0.022778755479330854, 0.0030266524392174093, -0.017598746673149902, 0.0013738643867455195, 0.0022147857066406, 0.0009745721072377551, 0.012086686903981353, -0.027918916717090046, -0.023814756868038005, 0.013248867602744439, -0.0030133703820714535, -0.006846908607812952, 0.0016627494789160327, 0.023695217888063107, -0.015805667561461966, -0.00460555878688044, -0.0031378898424377763, 0.017771413881708626, 0.019285569327670192, 0.015991615430182758, -0.022539677519381053, 0.025793785711091918, -0.0011156940808288605, 0.03256764323743276, -0.008195039037942014, -0.01992310993332126, -0.00997483655814529, 0.00018719421117954863, 0.023057679145057224, -0.005721252984124625, -0.018302696167546862, -0.011063967106758858, -0.006209368933484477, -8.223470803276878e-05, 0.02010905780204205, -0.0011580307252930882, -0.01588535897301511, 0.020055929573458225, -0.009084938263704948, -0.030522203642987775, 0.0029170753513479493, -0.006597869687080307, -0.013999304995644187, -0.01585879579004579, -0.023044396622249972, -0.008885706940854313, -0.004831354224022987, 0.010067811423828277, 0.023137370556610366, -0.01255819969983214, 0.02487732330235966, 0.0038816859739338994, -0.01940510830764509, -0.029592458711448267, -0.008387629099389022, -0.0016685604662288814, 0.0278126602599224, 0.007716884515026305, 0.021663060816425373, 0.021384137150699003, -0.030522203642987775, 0.02648445454532681, -0.008248167266525837, 0.01280391798986297, -0.04375114746152133, -0.014583716441388839, -0.0070328578735176315, 0.03493185406602587, -0.00036463441891849366, -0.010426427432430383, -0.00953652820666745, 0.015659563535872563, 0.03780077840955235, -0.002179920248424804, 0.008739603846587502, -0.016815103904554617, 0.00025235937681147234, -0.00603006139484472, 0.015221256115717315, 0.0006304833922947852, 0.018462080853298334, 0.03679134392910489, -0.002462164312022339, -0.002983485637077729, -0.00575777852486068, -0.01251171273265194, -0.004745020619743625, -0.0017698362101744574, -0.00361272396748232, -0.011747993748267533, 0.017890952861683525, 0.03915555103240763, 0.010964350979672246, 0.018435517670329013, 0.002819120005273538, -0.00586071481698781, -0.016456488827275104, 0.03179728299164473, -0.04032437206125175, 0.016669001741610397, -0.00688011398350849, 0.007271934902144838, -1.53573967649059e-05, 0.006504895287058616, -0.01824956793896304, -0.00023949238395132755, -0.025368759882421328, 0.020095777141879982, 0.01753233592175883, 0.022831883707914676, 0.006521497974906385, -0.0012725886427999438, 0.021583369404872228, -0.00525305988765306, -0.008779450483686667, -0.010951069388187585, 0.017612029195957155, 0.021795882319207524, 0.00040323544115467453, 0.0018379068112551434, -0.6953430901701263, -0.01122335179251033, 0.02752045593403396, 0.003928172941114097, 0.014530588212805015, 0.04515905017560562, 0.018900389204776175, -0.007072704044955499, -0.007730166572172261, 0.01754561844456608, -0.017771413881708626, 0.011356172363969888, -0.0035728775632138045, -0.014729818604333058, 0.0016710508228399172, -0.019166032210340477, -0.007145755126427609, -0.023044396622249972, 0.0069000368363967765, 0.02512968192247153, 0.0030133703820714535, 0.011741352486863907, -0.004300071006862158, -0.0011331268099367586, -0.005173367544777324, 0.0008496376262413678, 0.018594902356080485, 0.007371550563570155, 0.01082488914680906, 0.0033371209324577628, -0.015048588907158593, 0.023814756868038005, 0.0060499842477330056, 0.00889234820225794, 0.023323320287976342, -0.011190146416814793, -0.019498084104650672, 0.0011738032554654038, 0.015420486507245357, 0.017930798567460098, -0.014796229355724133, 0.0024189975098826587, 0.02778609707695308, 0.023881167619429083, -0.007358268506424199, 0.0016137719222941514, 0.011309685396789691, -0.014955614041475605, -0.008792732075171325, -0.003987942431101546, 0.0028855302910033177, -0.007869628405035446, 0.0025617797406170084, -0.0023409654823578294, -0.006166202597006092, -0.01680182324439255, 0.0005740345912168106, 0.010499478513902493, 0.005568509094115484, 0.014889204221407121, -0.0011347871252876652, 0.0095498107294747, -0.0037422241410707143, -0.017492490215982256, -0.021729471567816447, 0.012850405888365762, -0.024399167382460066, 0.022260753853654683, 0.005661483494137176, -0.005339393491932421, 0.0019773685277030043, 0.013461381448402325, -0.0035297109939047716, -0.017147155798864812, 0.029379945797112974, 0.021941984482151743, 0.009264245802344705, -0.0032474669303072363, -0.00793603822510393, 0.021357573967729682, 0.002762671145987902, 0.002057061103409388, -0.019976238161905083, -0.007464524963591846, 0.021516958653481154, -0.011050684583951607, -0.018355824396130687, -0.0016693905074890106, -0.003964698947511448, 0.015393922392953447, 0.02558127279675662, 0.001660259122304997, -0.017452644510205683, -0.01834254373596862, 0.014490741575705852, -0.00820168029934564, -0.011655018882584545, 0.0044428534704271565, 0.031478513620141785, 0.010207273256691463, -0.010340093828151022, -0.009045091626605785, -0.0023608885680767634, 0.011993712038298365, 0.01569941110429432, 0.01173471122546028, 0.007916115372215643, 0.020268444350438706, 0.022034958416512138, -0.022393575356436837, 0.00047732451075941057, -0.00974240079092171, -0.030814409831521394, -0.0018279452683956764, 0.0031594732435076167, -0.04133381026698958, -0.0007305140161425051, 0.012345686785496844, 0.01220622495263366, -0.009091578593785982, 0.022792038002138106, -0.002966883182060608, 0.02810486644845602, 0.004725097301194044, 0.008022371829383292, 0.015553308010027508, 0.013414893549899535, -0.022845166230721928, -0.011741352486863907, 0.0037023779696328464, -0.00466532827686789, 0.003652570138920188, 0.02442573242807457, -0.013560996644166346, 0.012624610451223215, -0.004157289008958456, 0.02058721372194165, 0.0074778070207378025, 0.014092279861327174, -0.012551559369751105, -0.021052085256388808, 0.022353729650660265, -0.01530094845859305, 0.0040410706596853705, 0.01045963280812592, -0.024784347505354083, -0.008188397776538387, -0.0005922974197924999, 0.006966447122126556, -0.0010069471506348536, -0.015619717830095992, -0.002858966176711406, -0.008825937450866864, 0.007384832620716111, -0.014384485118538204, -0.012857047149769386, 0.001476800446042002, -0.025089836216694958, -0.006352151397049475, -0.01346802177848336, -0.0060034968148915124, -0.000575694848360055, -0.014889204221407121, 0.0036492495082183747, -0.008387629099389022, -0.0016029802217592311, -0.018634748061857057, 0.02052080297055057, -0.01702761681888991, -0.042263557061174274, -0.017465927033012935, 0.0067638956342354044, -0.018833980316030282, 0.008998604659425586, 0.0007255332447127717, -0.0006952335372966443, -0.006730690724201163, 0.0038252371146482627, -0.018076900730404317, -0.014357921004246293, 0.007451242906445891, 0.0051567648569295545, 0.0027244852899009405, 0.011562044948224149, -0.0019109582419732248, 0.023668654705093786, 0.01612443693296491, 0.01730654048461628, -0.019976238161905083, 0.009357220668027692, -0.019843416659122932, 0.0011447486681471321, -0.014411049232830117, 0.005624957953401121, -0.01585879579004579, 0.005013982393364556, -0.005160085487631368, 0.012677738679807038, 0.001117354396179767, 0.024558553930856722, 0.042662017844230356, -0.0025966451988328047, 0.023044396622249972, -0.014557152327096928, 0.0013697138311989014, -0.04104160594110114, -0.0101209396524121, -0.00906501447949407, 0.015420486507245357, 0.009244322949456419, 0.01292345696983787, -0.030229997454454153, -0.025475016339588975, 0.004990738909774458, 0.02736107124828249, 0.025063271171080453, -0.01502202479286668, 0.007557499363613538, -0.004054352716831326, 0.0016378456799750274, 0.0010268702363537875, 0.0032507873281784013, 0.006567984942086582, -0.011933942548310915, -0.021277880693531356, 0.012166379246857087, 0.030787844785906893, 0.03559595412935589, 0.023668654705093786, -0.031531639986080426, -0.011097172482454397, 0.015818948221624034, -0.0012485148851190677, -0.002332664138433945, -0.000709760772748118, 0.007424678792153978, 0.016390078075884027, -0.008188397776538387, 0.03718980471216097, -0.0010907902818878552, -5.063790471459779e-05, 0.01172142963397562, 0.03947432040391057, -0.012305841079720272, 0.0278126602599224, 0.01842223514752176, 0.03307236047765649, -0.0048413156504671295, -0.0046686489075697035, 0.025421888111005153, -0.005106957259047544, 0.014610280555680751, 0.00021541862627045145, 0.0006005987637163844, 0.015686128581487067, -0.021729471567816447, -0.013653971509849334, 0.006216010194888103, 0.01854177412749666, 0.031930104494426875, 0.012093327234062385, 0.004964174795482546, 0.0028157996074023735, -0.027732968848369257, 0.009848657248089357, -0.002628190259177436, 0.006979729179272511, 0.02004264891329616, -0.009749042052325336, -0.012657815826918752, -0.005678086181984944, -0.003609403336780507, 0.01939182578483784, 0.0031129858106661227, 0.024996862282334564, 0.009078297002301321, 0.02636491556535191, 0.012744149431198113, 0.02908773960857935, 0.021105213484972633, -0.0037621472267896482, -0.032116052363147664, 0.003964698947511448, 0.002907113692073158, 0.003142870555659848, -0.02612583760540211, -0.022127934213517716, 0.0028124789767005605, 0.001028530551704694, 0.0006715748002458328, 0.0021716189045009196, 0.0007624739807018771, 0.026882915328382894, -0.032673899694600404, 0.005930445733419403, 0.021809164842014776, 0.011767916601155818, 0.0017598746673149904, 0.009682631300934259, -0.020055929573458225, 0.018023772501820492, 0.004552430558296617, -0.010619017493877392, -0.010379940465250185, 0.009496682500890877, -0.01827613298457754, -0.006650997915664131, -0.024531988885242217, 0.0003137889784230114, 0.0008583539907953168, -0.0061396384827141805, 0.01680182324439255, -0.001327377186734674, -0.006933242212092314, 0.015261101821493888, -0.005093675201901588, 0.0018462081551790278, 0.01716043832167206, 0.025209375196669857, 0.006235933513437685, -0.015633000352903246, -0.00974240079092171, -0.019843416659122932, 0.007750089425060547, 0.03740231762649626, 0.01753233592175883, 0.007650474229296525, 0.0026464530295454633, 0.0022197664198626717, -0.02454527140804947, -0.04056345002120155, -0.016509617055858926, 0.007942679486507556, 0.009994760342356168, 0.007026216612114005, 0.011037402992466947, 0.016230693390132556, -0.0068070624363750845, 0.01376022796701698, 0.014968896564282857, -0.004303391637563971, 0.0002749804167679672, -0.000631728628807965, 0.001283380343334864, -0.00014018813351771367, 0.004293430211119828, 0.006697485348505625, 0.01243866165117983, 0.021596650065034296, 0.0033254989578320655, 0.016908079701560195, -0.007823141437855247, -0.00913806649228877, -0.020295007533408026, -0.017067464387311666, 0.014371203527053544, 0.009217758835164507, 0.007052780726405917, -0.013215663158371492, 0.02600629862542721, -0.01185425020543518, 0.008361064985097111, 0.012710944055502577, -0.00024364302680943877, 0.007603986796455031, 0.005857394186285997, -0.0025418566548980745, -0.026165683311178682, 0.0033321399864050436, -0.006800421640632755, -0.004283468784675686, 0.008500526817960296, -0.007623910115004614, -0.012598046336931302, 0.028662713779908762, -0.0030731396392282553, -0.006999652497822094, -0.015792385038654714, 0.010014683195244454, 0.01668228426441765, -0.02370850041087036, -0.006332228544161189, -0.01417197220420291, -0.03216918245437667, -0.033842720723444526, -0.024253065219515847, -0.0025252541998809536, -0.0037090189982058245, -0.021995112710735565, -0.020972393844835666, -0.022154497396487036, -0.007882909996520106, -0.017200284027448633, -0.009078297002301321, -0.010851453261100973, -0.024837475733937908, -0.020135622847656555, -0.023894450142236335, 0.014663408784264574, 0.0005761099271977817, -0.01585879579004579, 0.010061170162424651, -0.0030714793238773488, 0.015579872124319421, 0.0017864387816069022, -0.03628662296359078, 0.00017858161633503122, -0.013328559945620174, -0.010373299203846558, 0.02656414595687995, 0.0165494627616355, 0.013800073672793553, 0.015672846058679815, 0.01332191961553914, 0.004914367197600535, -0.0010534344670610233, -0.003436736361052432, -0.02908773960857935, 0.017293259824454215, -0.022539677519381053, 0.00848060396507201, -0.014716537012848398, -0.00575113772911835, -0.009011886250910246, -0.009649425925238722, -0.010446350285318668, -0.005057149195504237, 0.007916115372215643, 0.011708147111168368, 0.0031810564117468088, -0.00048022994620817294, 0.01992310993332126, -0.02202167775635007, -0.005279624001944971, 0.002150035503431079, -0.0251695276282481, 0.013866484424184628, -0.005996856019149182, 0.006597869687080307, 0.009835374725282104, -0.006269138423471926, 0.03386928576905903, 0.0028739085492082684, -0.015925206541436865, 0.0010916204395633085, -0.025780503188284665, 0.002329343507732132, 0.014225100432786734, 0.015261101821493888, 0.01373366385272507, -0.007829781767936281, -0.0306018969171861, -0.02640476127112848, 0.0010550946659966056, -0.016894797178752943, 0.013693817215625905, -0.007404755939265693, -0.024226502036546527, -0.03182384803725923, -0.018183157187571963, 0.0007973394389176734, 0.02890179173985856, 0.012259353181217483, -0.019591058039011067, -0.027600147345587106, -0.0008625046045495971, -0.0019541250441129057, -0.016243975912939808, -0.011229993053913956, -0.03413492877462333, -0.015340794164369622, 0.006634395693477658, -0.015460333144344522, 0.013720381329917817, -0.001235232827973112, -0.017319823007423532, -0.02316393560222487, -0.013162533998465077, 0.0005993535272032045, -0.03182384803725923, -0.007112550216393367, -0.005990214757745556, 0.03413492877462333, 0.043166738809744455, 0.029406508980082294, 0.006475010542064891, -0.0023509269088019726, 0.01299650805130998, 0.00015232878206758338, 0.008128628286550938, -0.023217063830808696, 0.005239777830507103, -0.008952117692245389, 0.008221603152233926, 0.002370849994520906, 0.011628454768292633, -0.0005727894129112927, 0.00018947707202746756, 0.010087734276716564, 0.015513461372928345, -0.007451242906445891, 0.0031362295270868697, -0.026590711002494456, -0.01668228426441765, 0.004947572107634777, 0.007238729992110596, -0.01648305201024442, -0.0019607660726858834, -0.015659563535872563, -0.004834674389063504, 0.027839225305536903, 0.012950021084129782, 0.015938487201598933, 0.008268090119414123, 0.01712059261589549, -0.017651874901733727, -0.00119538654011992, 0.011708147111168368, 0.011137018188230968, -0.003519749334629981, 0.001242704014221543, -0.007696961196476723, -0.01676197567597079, 0.011960506662602826, -0.004559071354038947, 0.023947578370820156, -0.005233136569103477, 0.014623562147165411, 0.00984201598668573, 0.010838171669616313, -0.01698777111311334, -0.0025783824284647773, 0.010778402179628863, 0.000835110332582232, -0.006365433454195431, -0.030176869225870328, -0.010526042628194404, -0.018634748061857057, 0.013879766015669289, 0.029459637208666116, -0.013076201325508307, 0.016854951472976373, -0.019272288667508124, -0.022154497396487036, 0.007949320747911182, -0.0004441193096868588, 0.04651381907317053, 0.013448098925595073, 0.006348830766347662, 0.014198536318494822, 0.00315781292815671, -0.027029019353972297, 0.007132473069281653, -0.02021531612185488, 0.0036990573389310334, 0.023336602810783594, 0.0404571935640339, -0.016350232370107454, -0.002374170625222719, 0.006441805632030649, 0.016509617055858926, 0.0006167862563111027, -0.02890179173985856, -0.004426250782579388, 0.011050684583951607, -0.0015390601762251632, -0.01814331148179539, -0.007703602457880349, -0.035914727226149204, 0.0033487426742528125, -0.0007330044309612029, -0.011894096842534342, -0.02429291092529242, -0.009855298509492983, -0.026590711002494456, 0.020985676367642918, -0.03509123688913216, 0.018395671964552444, 0.014809511878531386, -0.027972046808319054, -0.007331704392132287, 0.0030249921238665028, -0.02935338075149847, 0.00011175619355986304, 0.009729118268114458, 0.0376945219523847, -0.015486897258636433, 0.009350579406624066, 0.016097871887350405, 0.004160609173998973, -0.027706403802754753, 0.017200284027448633, -0.011070608368162484, 0.02778609707695308, -0.030017484540118856, -0.007205524616415058, 0.001426162574069214, 0.014530588212805015, 0.004323314956113554, -0.017040899341697162, -0.016058026181573832, -0.012637892974030467, -0.01696120793014402, 0.007537576510725252, 0.018860543498999603, 0.011382736478261801, -0.005897240357723865, 0.0015838871773004265, -0.013813356195600805, -0.014796229355724133, -0.0050239442854699955, -0.0012036878840438045, -0.011628454768292633, -0.01743936198739843, -0.013182457782675955, -0.006378715511341387, -0.01242537912837258, 0.011880814319727092, 0.0008376007474009298, -0.02032157257902253, 0.016257256573101876, 0.018355824396130687, -0.029512767299895125, 0.012724225646987235, -0.015566589601512169, 0.0013821657306694042, -0.019444955876066847, 0.006365433454195431, 0.0037090189982058245, -0.03572877563213804, 0.02752045593403396, -0.016376795553076775, -0.03254107819181826, -0.008786091745090293, -0.0060068174455933255, 0.014264946138563305, 0.009231040426649167, -0.005306188116236883, 0.006209368933484477, 0.007351627245020574, 0.013986023404159527, 0.00887242441804706, -0.023761628639454184, 0.013182457782675955, -0.003144530871010754, 0.0050671110876096765, 0.000544980062106201, -0.00939042604372323, 0.006574626203490208, -0.0001529513712203423, 0.01030024812237445, 0.00877280922228304, -0.022831883707914676, -0.019710597018985965, -0.002784254547057742, 0.01613771945577216, -0.014264946138563305, -0.0038982884289510203, -0.013315278354135514, -0.00575777852486068, -0.01010765806092744, 0.004967495426184359, -0.005883958300577909, -0.00862670612801623, -0.017479207693175004, -0.012040199005478562, -0.015965052247213438, 0.0066742418649155255, -0.027228249745500338, 0.007398114677862067, -0.029990921357149536, -0.00456239198474076, -0.026696967459662102, -0.02850332909415729, -0.004940931311892448, 0.009788887758101907, 0.025780503188284665, -0.01376022796701698, -0.02671024811982417, 0.004957533999740216, -0.035967853592087845, -0.026736813165438675, -0.019750442724762538, 0.004877841191203184, 0.0052032522897710485, 0.0015506820344355367, -0.018900389204776175, 0.017705003130317552, 0.0066709212342137125, 0.027732968848369257, -0.002661395402042326, -0.01241209753688792, 0.017731568175932053, -0.00324580661495633, 0.006634395693477658, 0.016748695015808723, -0.03785390850078136, -0.023124089896448298, 0.02370850041087036, 0.0031694346699517595, 0.016376795553076775, 0.020002801344874404, -0.008918912316549852, -0.020095777141879982, 0.0072984990164367495, 0.011382736478261801, -0.003151171899583732, -0.0030133703820714535, -0.0009762323643809995, -0.017558900967373333, -0.009596297696654899, 0.0029120946381258777, 0.0013730343454853905, -0.0029087740074240647, -0.010798325032517148, -0.00327901175782122, -0.008121987956469904, -0.0007043649224806579, -0.030017484540118856, -0.012857047149769386, -0.012744149431198113, -0.01179448071544773, 0.01879413274760853, -0.008281372642221375, -0.0026398120009724856, 0.024199936990932022, 0.005458932006246024, -0.01850192842172009, -0.005429047261252299, 0.01503530638435134, 0.0003837274051696363, 0.011316326658193317, -0.0027244852899009405, 0.0027859148624086484, -0.008865784087966027, -0.015194692001425402, -0.014942332449990945, -0.024651527865217116, 0.004403007298989289, -0.015486897258636433, -0.012445302912583457, -0.012637892974030467, 0.014849357584307957, 0.0075242944535792965, -0.01799720931885117, -0.0017084066376667493, -0.014025869109936098, 0.00557515035551911, -0.0026331709723995075, 0.0032242232138864897, 0.0010368317792132545, -0.008082141319370741, 0.017465927033012935, 0.025900042168259564, -0.018608184878887737, -0.007896192519327357, 0.00928416865523299, 0.01572597428726364, 6.241537019539332e-05, 0.004748341250445438, 0.22186375078695406, 0.0068070624363750845, -0.0018445479562434453, 0.024917169008136234, 0.0023110807373641047, 0.032116052363147664, 0.004748341250445438, -0.010851453261100973, 0.004403007298989289, 0.015274384344301138, 0.029539330482864445, 0.019723877679148034, -0.008566937569351372, -0.0018860543266168955, -0.007770012743610128, -0.019285569327670192, -0.005173367544777324, -0.023177218125032123, -0.032780156151768054, -0.029300252522914644, 0.0007865477383827531, -0.021251317510562036, 0.004499302329712793, -0.005475534694093793, 0.018674595630278814, -0.009729118268114458, -0.012950021084129782, -0.0019840095562759824, 0.019179312870502545, 0.017492490215982256, -0.031080050974440512, -0.006979729179272511, 0.025342194836806824, -0.00022102200140485936, -0.02512968192247153, -0.011037402992466947, 0.011655018882584545, -0.02512968192247153, 0.029273689339945327, -0.012279276965428361, 0.006966447122126556, 0.0018511889848164232, 0.014251664547078645, 0.005080393144755633, -0.010897941159603762, 0.014357921004246293, 0.006335548709201706, -0.03150507866575629, 0.0001072942488494146, 0.013315278354135514, -0.02890179173985856, -0.0006147109203301315, 0.008686475618003679, 0.01214645546264621, 0.020985676367642918, -0.013441457664191447, 0.02656414595687995, -0.01794408109026735, 0.007989167385010345, 0.009377143520915978, -0.020135622847656555, 0.03275359110615355, -0.028476764048542786, 0.02530234913103025, -0.024651527865217116, -0.0027012415734801935, -0.01937854512467577, -0.010466273138206954, 0.015579872124319421, -0.0065879082606361645, 0.004608879417582253, -0.02510311873950221, 0.0038252371146482627, 0.004004545118949316, -0.01758546415034265, -0.02446557813385114, 0.03028312754568316, 0.028689276962878082, 0.03920868112363664, 0.010705351098156754, -0.012046840266882188, -0.007178960502123147, -0.022499831813604484, -0.03493185406602587, -0.02845020086557347, -0.039288372535189776, -0.003808634426800494, -0.0038750447125302733, -0.00043830840968550307, -0.009662708448045974, -0.013448098925595073, -0.015380640801468786, -0.006641036489219988, -0.010685428245268467, 0.015114998727227076, 0.031053487791471195, 0.007929397895022896, 0.027161838994109264, -0.0031246077852918205, 0.010067811423828277, -0.018488645898912838, 0.00649825402565499, 0.02122475246494753, 0.004343237809001839, -0.00017370461461472942, 0.0008459020331171522, -0.012624610451223215, -0.003981301635359216, 0.0009886842638515022, 0.001001136279737329, 0.005535304184081242, -0.031212872477222667, 0.017279977301646963, 0.00029179055672310647, 0.005146803430485412, 0.004834674389063504, -0.0038949680310798552, -0.02720168656253102, 0.00694652426923827, -0.006182804819192565, 0.01418525379568757, 0.001605470578370267, 0.004818072166877031, 0.004021147806797084, -0.01543376903005261, -0.005548586241227198, -0.02628522229115358, 0.0013348483729831051, 0.0020836252177012997, -0.034852158929182364, 0.006461728484918935, 0.000492266854152442, 0.023124089896448298, -0.005937086529161733, 0.0017150476662397272, -0.0032258835292373962, -0.009038450365202158, -0.012319122671204932, -0.04340581304440389, 0.015633000352903246, 0.013461381448402325, -0.002322702479159154, -0.011143659449634594, 0.003011710066720547, -0.006043343451990676, -0.023203781308001444, 0.04611535829011445, -0.005505419439087517, -0.024053834827987803, 0.005409124408364013, -0.0280783032654867, -0.0037389035103689012, 0.006813703697778711, 0.0066310750627758454, 0.029725280214230418, -0.004472738215420881, -0.029140867837163176, -0.04539812441026505, 0.02204824093931939, 0.0038219164839464496, -0.030256562500068654, 0.005123559481234017, 0.04353863454718604, -0.014570433918581588, -0.028875226694244055, -0.010479555661014207, -0.1739420327249896, 0.029140867837163176, 0.01968403197337146, -0.0003511447932498434, 0.002950280494212839, -0.0025717413998917996, 0.035914727226149204, -0.011987070776894738, 0.0016029802217592311, -0.0033421016456798344, 0.0010600754956340012, -0.01060573497107014, -0.022685781544970456, 0.006040022821288863, 0.008394270360792648, -0.0016594289646295437, -0.0011256557401036515, -0.0139063301299612, 0.022526396859218988, 0.020560648676327144, 0.018395671964552444, -0.00889234820225794, 0.03299266906610335, -0.01185425020543518, 0.010127580913815727, -0.011203428939622043, 0.002966883182060608, 0.03301923411171785, 0.0028689278359861968, -0.0009587996352731014, -0.019777005907731855, 0.005817548014848129, 0.011628454768292633, 0.005219854511957521, 0.01010765806092744, 0.003772108653233791, 0.028715842008492587, -0.018621465539049805, -0.015114998727227076, 0.026670402414047598, 0.019697314496178713, 0.006846908607812952, -0.00044453438852458545, -0.01940510830764509, -0.00478154616047968, 0.017200284027448633, 0.03955401181546371, -0.00869975814081093, 0.02149039360786665, -0.007663756286442482, 0.01879413274760853, -0.012750789761279148, -0.010008041933840828, -0.02050752044774332, 0.016058026181573832, 0.00625585636632597, -0.014596998032873499, 0.008029013090786916, 0.010486196922417833, -0.002297798680218149, -0.008268090119414123, -0.0216232151106488, 0.01702761681888991, -0.010479555661014207, -0.016390078075884027, -0.007471166224995472, -0.03477246751762922, 0.006979729179272511, -0.0030399344963633656, 0.0013116047729776824, -0.00507707251405382, -0.007896192519327357, 0.0005246418975495405, -0.018887108544614107, 0.025488298862396227, 0.005219854511957521, -0.027493890888419456, 0.015008742270059428, -0.009290809916636616, 0.006239253678478202, 2.6473350356958437e-05, 0.03610067509486999, 0.009576374843766612, 0.019219160438924302, 0.002472125738466482, 0.0023177217659370824, -0.0030299728370885744, -0.00793603822510393, 0.00586071481698781, 0.005877317504835579, 0.03657883101476959, -0.035356879894696464, -0.01299650805130998, -0.011057325845355234, -0.0025368759416760033, 0.008161833662246477, -0.00806885972788608, -0.007311781073582706, -0.0016411661942615163, 0.008387629099389022, -0.007809858915047996, -0.003815275455373472, -0.025435170633812402, 0.027055582536941618, 0.019418390830452343, -0.008746245107991128, 0.003934814202517723, 0.010260401485275286, 0.029990921357149536, 0.0015324191476521853, -0.0242663477423231, -0.0024090360834385155, 0.010931146535299299, 0.021676343339232625, 0.012810559251266597, 0.015061870498643251, 0.020773161590662437, -0.013049637211216396, 0.014836075992823298, -0.0027327866338248247, 0.041705709729721534, -0.009231040426649167, -0.018714441336055383, 0.018674595630278814, 0.005395842351218057, -0.00884586030375515, -0.06874801346914626, -0.05477526886250362, 0.027839225305536903, 0.04943587723321639, -0.00437976381539919, 0.029114304654193856, 0.03174415290041572, 0.021317726399307926, -0.022526396859218988, 0.010559248003889942, -0.006800421640632755, -0.021370856490536935, -0.02188885625356792, -0.007411396735008023, 0.003768788255362626, 0.004150647747554831, 0.010632299085362052, -0.0021367534462851234, -0.0012584764279785347, 0.04112129735265429, -0.010174067880995924, 0.00490108514045458, 0.00814191080935819, -0.030362818957236304, -0.023788193685068685, -0.0108116075553244, -0.01838238944174519, 0.03365677285472374, 0.005429047261252299, -0.005458932006246024, -0.003252447643529308, -0.018156594004602643, 0.008586860422239656, -0.023416294222336737, -0.013707099738433157, 0.002223087050564485, -0.028423635819958964, -0.0024206578252335647, 0.026603991662656524, -0.01241209753688792, 0.009363861929431318, 0.02651101772829613, -0.009098219855189608, -0.024598399636633295, 0.001113203724217825, -0.023934295848012904, 0.001436124116928681, 0.01932541689609195, -0.0020238559605444983, -0.03129256575142099, -0.015088434612935164, 0.004157289008958456, -0.012843764626962136, 0.010213914518095089, 0.006338869339903519, -0.011050684583951607, 0.04561063732460035, 0.016934642884529515, -0.010366657942442934, -0.0056017144698110215, -0.00927088706374833, 0.0016527879360565658, -0.013653971509849334, 0.017904235384490777, -0.01627053909590913, 0.0036625315653643306, -0.02708214758255612, -0.013614124872750169, 0.022194344964908793, 0.0014203517031716893, -0.007311781073582706, 0.014596998032873499, -0.004004545118949316, 0.0007628890595396037, -0.03416149382023784, 0.012916815708434245, -0.02147711294770458, -0.05031249393617206, 0.021118496007779885, -0.005458932006246024, -0.02566096607095495, -0.02356239824792614, 0.007331704392132287, -0.04340581304440389, 0.016350232370107454, 0.01615100011593423, 0.009290809916636616, -0.011156941041119254, 0.015500178850121093, -0.045291867953097406, 0.0036990573389310334, 0.01640336059869128, 0.019869981704737437, -0.02336316599375291, -0.024080398010957123, 0.014264946138563305, 0.004273506892570247, -0.006866831926362535, 0.02142398471912076, -0.002013894301269707, -0.03636631437514393, -0.009118142708077894, -0.037428882672110766, 0.019179312870502545, 0.011787839454044104, -0.015646282875710495, -0.0015440410058625588, 0.014477459984221192, -0.0031910180710216, -0.024040552305180554, -0.015340794164369622, -0.004117442837520589, -0.013175816521272329, 0.002430619484508356, -0.008659911503711766, -0.0033188579292590874, -0.009755682382406369, -0.01060573497107014, 0.031053487791471195, 0.004419609986837058, 0.025421888111005153, 0.009470118386598966, 0.02556799027394937, -0.002090266246274278, 0.015274384344301138, 0.008361064985097111, -0.009430271749499801, 0.01587207645020786, -0.011615173176807972, 0.007690320400734393, -0.02961902375706277, -0.013919612652768452, 0.00505382903046372, -0.016496334533051674, -0.0016004897487328714, 0.008600142013724317, -0.02050752044774332, 0.00843411606656922, -0.01310276543980022, 0.021516958653481154, 0.005970291904857271, 0.012896892855545959, -0.0047084950790075705, -0.029273689339945327, 0.009250964210860045, -0.02129116321633861, -0.028184559722654347, 0.017758131358901374, -0.03150507866575629, 0.012385533422596007, 0.029672151985646596, -0.00011445411141763533, 0.01698777111311334, 0.00969591289241892, -0.037269496123714115, -0.015181409478618152, 0.01342153481130316, -0.00906501447949407, -0.0010127580215323782, -0.0020520803901873164, 0.008254808527929463, -0.020627059427718218, 0.042157300604006624, -0.0007151566230155781, 0.021118496007779885, -0.007311781073582706, 0.016469771350082357, 0.013667253101333994, -0.004462776323315442, -0.014756383649947562, 0.018860543498999603, -0.03073471655732307, -0.0048911232483491406, 0.005947048421267171, 0.008374347507904362, 0.0082149618908303, 0.024226502036546527, 0.023137370556610366, 0.011044043322547981, 0.0003279011932444206, -0.0005362636975522519, 0.036313188009205286, 0.02698917178555054, 0.011933942548310915, -0.027732968848369257, 0.013262150125551691, 0.01838238944174519, -0.003259088672102286, 0.001687653394272362, 0.0020354777023395476, -0.012285917295509395, 0.008234885675041178, -0.03437400673457313, 0.010698709836753128, 0.008693116879407305, 0.009722477938033424, -0.0037223010553517804, -0.011176864825330132, 0.010353376350958274, -0.0005632428906818904, 0.019790288430539107, 0.020547366153519892, 0.01993639245612851, -0.0005624127912140991, -0.005990214757745556, -0.022699062205132525, -0.010087734276716564, 0.0038285575125194277, -0.02121146994214028, -0.033444259940388445, -0.015500178850121093, 0.0038053140289293287, 0.014504024098513105, 0.003619364996055298, 0.007424678792153978, 0.014025869109936098, -0.013434817334110413, 0.015008742270059428, -0.010346735089554648, 0.015181409478618152, -0.030336255774266983, 0.02308424232802654, -0.002442241226303405, -0.005903881619127491, 0.01993639245612851, -0.00869975814081093, 0.017705003130317552, -0.003579518591786782, 0.012498431141167282, -0.026524300251103382, 0.005349354918376564, 0.008566937569351372, 0.01965746879040214, 0.008666552765115392, -0.012451943242664491, -0.028609585551324937, -0.022287318899269187, -0.0028971522656290154, -0.01641664312149853, 0.0075242944535792965, -0.01658930846741207, 0.060247481994573006, 0.002427298853806543, -0.012006993629783025, 0.01751905526159676, 0.013023073096924484, 0.02612583760540211, 0.015540025487220256, 0.025700811776731523, 7.948490532028066e-05, -0.01389304853847654, 0.028742407054107088, 0.010027964786729113, -0.0036060829389093422, -0.012458584504068117, -0.04547781954710856, 0.022792038002138106, -0.014118843975619086, 0.007836423029339908, -0.010406504579542097, -0.011967147924006452, 0.0089056297937426, 0.016018180475797263, 0.02400070659940398, -0.0006192766711298004, -0.003619364996055298, -0.008042295613594168, 0.024332758493714173, -0.02218106244210154, -0.026311787336768085, -0.026776658871215248, 0.011004197616771409, 0.0023691896791699996, -0.011993712038298365, -0.01850192842172009, 0.017705003130317552, -0.00523645719980529, -0.0036924163103580557, 0.0056482014369912195, 0.01071199235956038, 0.003456659446771366, 0.023655372182286534, 0.03089410124307454, -0.020255161827631454, -0.014543869804289676, 0.018023772501820492, -0.013707099738433157, -0.023389731039367416, 0.01320238063556424, -0.0021002279055490685]\n"
     ]
    }
   ],
   "source": [
    "new_vector = OpenAIEmbeddings().embed_query(\"this is a test\")\n",
    "print(new_vector)"
   ]
  },
  {
   "cell_type": "code",
   "execution_count": 33,
   "metadata": {},
   "outputs": [
    {
     "data": {
      "text/plain": [
       "UpdateResult(operation_id=0, status=<UpdateStatus.COMPLETED: 'completed'>)"
      ]
     },
     "execution_count": 33,
     "metadata": {},
     "output_type": "execute_result"
    }
   ],
   "source": [
    "from qdrant_client import models\n",
    "#let's update one Point manually with the embedding vector\n",
    "client.upsert(\n",
    "    collection_name=\"toronto_sf\",\n",
    "    points=[\n",
    "        models.PointStruct(\n",
    "            id=1,\n",
    "            payload={\n",
    "                \"test\": \"adding a new point manually\",\n",
    "            },\n",
    "            vector=new_vector,\n",
    "        ),\n",
    "    ],\n",
    ")"
   ]
  },
  {
   "cell_type": "code",
   "execution_count": 34,
   "metadata": {},
   "outputs": [
    {
     "data": {
      "text/plain": [
       "[Record(id=1, payload={'test': 'adding a new point manually'}, vector=None)]"
      ]
     },
     "execution_count": 34,
     "metadata": {},
     "output_type": "execute_result"
    }
   ],
   "source": [
    "client.retrieve(collection_name=collection, ids=[1])"
   ]
  },
  {
   "cell_type": "code",
   "execution_count": null,
   "metadata": {},
   "outputs": [],
   "source": []
  }
 ],
 "metadata": {
  "kernelspec": {
   "display_name": "llms",
   "language": "python",
   "name": "python3"
  },
  "language_info": {
   "codemirror_mode": {
    "name": "ipython",
    "version": 3
   },
   "file_extension": ".py",
   "mimetype": "text/x-python",
   "name": "python",
   "nbconvert_exporter": "python",
   "pygments_lexer": "ipython3",
   "version": "3.11.5"
  }
 },
 "nbformat": 4,
 "nbformat_minor": 2
}
