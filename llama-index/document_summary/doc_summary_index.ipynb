{
 "cells": [
  {
   "cell_type": "code",
   "execution_count": 3,
   "metadata": {},
   "outputs": [],
   "source": [
    "from llama_index import SimpleDirectoryReader, ServiceContext, get_response_synthesizer\n",
    "from llama_index.indices.document_summary import DocumentSummaryIndex\n",
    "from llama_index.llms import OpenAI\n",
    "import nest_asyncio\n",
    "nest_asyncio.apply()"
   ]
  },
  {
   "cell_type": "code",
   "execution_count": 5,
   "metadata": {},
   "outputs": [],
   "source": [
    "\n",
    "wiki_titles = [\"Houston\", \"Toronto\", \"New York City\", \"San Francisco\"]\n",
    "city_docs = []\n",
    "for wiki_title in wiki_titles:\n",
    "    docs = SimpleDirectoryReader(\n",
    "        input_files=[f\"data/{wiki_title}.txt\"]\n",
    "    ).load_data()\n",
    "    docs[0].doc_id = wiki_title\n",
    "    city_docs.extend(docs)\n",
    "\n",
    "llm = OpenAI(model=\"gpt-3.5-turbo\", temperature=0)\n",
    "service_context = ServiceContext.from_defaults(llm=llm, chunk_size=1024)"
   ]
  },
  {
   "cell_type": "code",
   "execution_count": 8,
   "metadata": {},
   "outputs": [
    {
     "name": "stderr",
     "output_type": "stream",
     "text": [
      "/opt/homebrew/Caskroom/miniconda/base/envs/llms/lib/python3.11/site-packages/tqdm/auto.py:21: TqdmWarning: IProgress not found. Please update jupyter and ipywidgets. See https://ipywidgets.readthedocs.io/en/stable/user_install.html\n",
      "  from .autonotebook import tqdm as notebook_tqdm\n"
     ]
    },
    {
     "name": "stderr",
     "output_type": "stream",
     "text": [
      "Parsing documents into nodes: 100%|██████████| 4/4 [00:00<00:00, 16.95it/s]\n",
      "Summarizing documents:   0%|          | 0/4 [00:00<?, ?it/s]"
     ]
    },
    {
     "name": "stdout",
     "output_type": "stream",
     "text": [
      "current doc id: Houston\n"
     ]
    },
    {
     "name": "stderr",
     "output_type": "stream",
     "text": [
      "Summarizing documents:  25%|██▌       | 1/4 [00:57<02:53, 57.71s/it]"
     ]
    },
    {
     "name": "stdout",
     "output_type": "stream",
     "text": [
      "current doc id: Toronto\n"
     ]
    },
    {
     "name": "stderr",
     "output_type": "stream",
     "text": [
      "Summarizing documents:  50%|█████     | 2/4 [02:32<02:38, 79.26s/it]"
     ]
    },
    {
     "name": "stdout",
     "output_type": "stream",
     "text": [
      "current doc id: New York City\n"
     ]
    },
    {
     "name": "stderr",
     "output_type": "stream",
     "text": [
      "Summarizing documents:  75%|███████▌  | 3/4 [14:27<06:09, 369.90s/it]"
     ]
    },
    {
     "name": "stdout",
     "output_type": "stream",
     "text": [
      "current doc id: San Francisco\n"
     ]
    },
    {
     "name": "stderr",
     "output_type": "stream",
     "text": [
      "Summarizing documents: 100%|██████████| 4/4 [15:36<00:00, 234.03s/it]\n",
      "Generating embeddings: 100%|██████████| 4/4 [00:00<00:00, 12.12it/s]\n"
     ]
    }
   ],
   "source": [
    "response_synthesizer = get_response_synthesizer(\n",
    "    response_mode=\"tree_summarize\", use_async=True\n",
    ")\n",
    "doc_summary_index = DocumentSummaryIndex.from_documents(\n",
    "    city_docs,\n",
    "    service_context=service_context,\n",
    "    response_synthesizer=response_synthesizer,\n",
    "    show_progress=True,\n",
    ")"
   ]
  },
  {
   "cell_type": "code",
   "execution_count": 10,
   "metadata": {},
   "outputs": [
    {
     "data": {
      "text/plain": [
       "\"The provided text is about the city of Houston, Texas, and covers various aspects of the city such as its population, location, history, economy, cultural institutions, geographic features, environmental challenges, demographics, religion, architecture, climate, sports, government, crime, education, media, healthcare, infrastructure, transportation, and the Houston Airport System.\\n\\nSome questions that this text can answer include:\\n- What is the population of Houston?\\n- Where is Houston located?\\n- What is the history of Houston?\\n- What is the economy of Houston based on?\\n- What cultural institutions are located in Houston?\\n- What geographic features are present in Houston?\\n- How has Houston been affected by hurricanes and flooding?\\n- What are some of the environmental challenges faced by Houston?\\n- What is the demographic breakdown of Houston's population?\\n- What is the religious makeup of Houston?\\n- What is the architecture like in Houston?\\n- What is the climate of Houston?\\n- What sports teams and facilities are in Houston?\\n- How is the government structured in Houston?\\n- What are the crime statistics in Houston?\\n- What is the education system like in Houston?\\n- What media outlets are available in Houston?\\n- What is the healthcare system like in Houston?\\n- What is the transportation infrastructure like in Houston?\\n- What public transportation options are available in the city?\\n- How many miles of dedicated bikeways does Houston have?\\n- What are the major airports in Houston and how many passengers do they serve?\\n- What are the major hospitals and research institutions in Houston?\""
      ]
     },
     "execution_count": 10,
     "metadata": {},
     "output_type": "execute_result"
    }
   ],
   "source": [
    "doc_summary_index.get_document_summary(\"Houston\")"
   ]
  },
  {
   "cell_type": "code",
   "execution_count": 11,
   "metadata": {},
   "outputs": [],
   "source": [
    "doc_summary_index.storage_context.persist(\"index\")"
   ]
  },
  {
   "cell_type": "code",
   "execution_count": 12,
   "metadata": {},
   "outputs": [],
   "source": [
    "from llama_index.indices.loading import load_index_from_storage\n",
    "from llama_index import StorageContext\n",
    "\n",
    "#saving the index so we don't need to re-process the docs\n",
    "storage_context = StorageContext.from_defaults(persist_dir=\"index\")\n",
    "doc_summary_index = load_index_from_storage(storage_context)\n"
   ]
  },
  {
   "cell_type": "code",
   "execution_count": 13,
   "metadata": {},
   "outputs": [],
   "source": [
    "query_engine = doc_summary_index.as_query_engine(\n",
    "    response_mode=\"tree_summarize\", use_async=True\n",
    ")"
   ]
  },
  {
   "cell_type": "code",
   "execution_count": 14,
   "metadata": {},
   "outputs": [],
   "source": [
    "# it took 10 minutes to process this answer. It is insane to use LLM to retrieve answer.\n",
    "response = query_engine.query(\"What are the sports teams in Toronto?\")"
   ]
  },
  {
   "cell_type": "code",
   "execution_count": 15,
   "metadata": {},
   "outputs": [
    {
     "name": "stdout",
     "output_type": "stream",
     "text": [
      "The sports teams in Toronto include the Toronto Maple Leafs (NHL), Toronto Raptors (NBA), Toronto Blue Jays (MLB), Toronto FC (MLS), and Toronto Argonauts (CFL).\n"
     ]
    }
   ],
   "source": [
    "print(response)"
   ]
  },
  {
   "cell_type": "markdown",
   "metadata": {},
   "source": [
    "Embedding-based Retrieval"
   ]
  },
  {
   "cell_type": "code",
   "execution_count": 16,
   "metadata": {},
   "outputs": [],
   "source": [
    "from llama_index.indices.document_summary import DocumentSummaryIndexEmbeddingRetriever"
   ]
  },
  {
   "cell_type": "code",
   "execution_count": 50,
   "metadata": {},
   "outputs": [],
   "source": [
    "# it taks 0.2 second when using embedding retrieval, this is just to retrieve the relevant nodes, not the final answer\n",
    "retriever = DocumentSummaryIndexEmbeddingRetriever(\n",
    "    doc_summary_index,\n",
    "    similarity_top_k=2,\n",
    ")\n",
    "retrieved_nodes = retriever.retrieve(\"What are the sports teams in Toronto?\")"
   ]
  },
  {
   "cell_type": "code",
   "execution_count": 51,
   "metadata": {},
   "outputs": [
    {
     "data": {
      "text/plain": [
       "57"
      ]
     },
     "execution_count": 51,
     "metadata": {},
     "output_type": "execute_result"
    }
   ],
   "source": [
    "# 22 nodes in total were retrieved\n",
    "len(retrieved_nodes)"
   ]
  },
  {
   "cell_type": "code",
   "execution_count": 56,
   "metadata": {},
   "outputs": [
    {
     "name": "stdout",
     "output_type": "stream",
     "text": [
      "Toronto's traffic congestion is one of the highest in North America, and is the second highest in Canada after Vancouver.</p>\n",
      "<h2><span id=\"Sister_cities\">Sister cities</span></h2>\n",
      "<link rel=\"mw-deduplicated-inline-style\" href=\"mw-data:TemplateStyles:r1033289096\">\n",
      "<h3><span id=\"Partnership_cities\">Partnership cities</span></h3>\n",
      "\n",
      "<h3><span id=\"Friendship_cities\">Friendship cities</span></h3>\n",
      "<link rel=\"mw-deduplicated-inline-style\" href=\"mw-data:TemplateStyles:r1147244281\">\n",
      "<h2><span id=\"Notable_people\">Notable people</span></h2>\n",
      "<link rel=\"mw-deduplicated-inline-style\" href=\"mw-data:TemplateStyles:r1033289096\">\n",
      "<h2><span id=\"See_also\">See also</span></h2>\n",
      "<ul><li>Outline of Toronto (extensive topic list)</li>\n",
      "<li>Great Lakes megalopolis</li>\n",
      "<li>Largest cities in the Americas</li>\n",
      "<li>List of metropolitan areas in the Americas</li></ul><h2><span id=\"Notes\">Notes</span></h2>\n",
      "\n",
      "<h2><span id=\"References\">References</span></h2>\n",
      "<link rel=\"mw-deduplicated-inline-style\" href=\"mw-data:TemplateStyles:r1011085734\">\n",
      "<h3><span id=\"Bibliography\">Bibliography</span></h3>\n",
      "\n",
      "<h2><span id=\"Further_reading\">Further reading</span></h2>\n",
      "<link rel=\"mw-deduplicated-inline-style\" href=\"mw-data:TemplateStyles:r1054258005\">\n",
      "<h2><span id=\"External_links\">External links</span></h2>\n",
      "\n",
      "<ul><li><span><span>Official website</span></span> <span typeof=\"mw:File/Frameless\"></span></li></ul>\n"
     ]
    }
   ],
   "source": [
    "print(retrieved_nodes[21].node.get_text())"
   ]
  },
  {
   "cell_type": "code",
   "execution_count": 57,
   "metadata": {},
   "outputs": [],
   "source": [
    "# use retriever as part of a query engine\n",
    "from llama_index.query_engine import RetrieverQueryEngine\n",
    "\n",
    "# configure response synthesizer\n",
    "response_synthesizer = get_response_synthesizer(response_mode=\"tree_summarize\")\n",
    "\n",
    "# assemble query engine\n",
    "query_engine = RetrieverQueryEngine(\n",
    "    retriever=retriever,\n",
    "    response_synthesizer=response_synthesizer,\n",
    ")"
   ]
  },
  {
   "cell_type": "code",
   "execution_count": 21,
   "metadata": {},
   "outputs": [
    {
     "name": "stdout",
     "output_type": "stream",
     "text": [
      "The sports teams in Toronto include the Toronto Maple Leafs (NHL), Toronto Raptors (NBA), Toronto Blue Jays (MLB), Toronto FC (MLS), and Toronto Argonauts (CFL).\n"
     ]
    }
   ],
   "source": [
    "# Using embedding-based, it takes 44 seconds to answer, which is much better than using LLM\n",
    "response = query_engine.query(\"What are the sports teams in Toronto?\")\n",
    "print(response)"
   ]
  },
  {
   "cell_type": "code",
   "execution_count": null,
   "metadata": {},
   "outputs": [],
   "source": [
    "response = query_engine.query(\"What are the sports teams in Toronto?\")\n",
    "print(response)"
   ]
  },
  {
   "cell_type": "code",
   "execution_count": 59,
   "metadata": {},
   "outputs": [
    {
     "name": "stdout",
     "output_type": "stream",
     "text": [
      "The population of Toronto and New York cannot be determined based on the given information.\n"
     ]
    }
   ],
   "source": [
    "response = query_engine.query(\"Compare the population of Toronto and New York\")\n",
    "print(response)"
   ]
  },
  {
   "cell_type": "code",
   "execution_count": 58,
   "metadata": {},
   "outputs": [
    {
     "name": "stdout",
     "output_type": "stream",
     "text": [
      "57\n"
     ]
    }
   ],
   "source": [
    "retrieved_nodes = retriever.retrieve(\"Compare the population of Toronto and New York\")\n",
    "print(len(retrieved_nodes))"
   ]
  },
  {
   "cell_type": "code",
   "execution_count": 47,
   "metadata": {},
   "outputs": [
    {
     "name": "stdout",
     "output_type": "stream",
     "text": [
      "Toronto's traffic congestion is one of the highest in North America, and is the second highest in Canada after Vancouver.</p>\n",
      "<h2><span id=\"Sister_cities\">Sister cities</span></h2>\n",
      "<link rel=\"mw-deduplicated-inline-style\" href=\"mw-data:TemplateStyles:r1033289096\">\n",
      "<h3><span id=\"Partnership_cities\">Partnership cities</span></h3>\n",
      "\n",
      "<h3><span id=\"Friendship_cities\">Friendship cities</span></h3>\n",
      "<link rel=\"mw-deduplicated-inline-style\" href=\"mw-data:TemplateStyles:r1147244281\">\n",
      "<h2><span id=\"Notable_people\">Notable people</span></h2>\n",
      "<link rel=\"mw-deduplicated-inline-style\" href=\"mw-data:TemplateStyles:r1033289096\">\n",
      "<h2><span id=\"See_also\">See also</span></h2>\n",
      "<ul><li>Outline of Toronto (extensive topic list)</li>\n",
      "<li>Great Lakes megalopolis</li>\n",
      "<li>Largest cities in the Americas</li>\n",
      "<li>List of metropolitan areas in the Americas</li></ul><h2><span id=\"Notes\">Notes</span></h2>\n",
      "\n",
      "<h2><span id=\"References\">References</span></h2>\n",
      "<link rel=\"mw-deduplicated-inline-style\" href=\"mw-data:TemplateStyles:r1011085734\">\n",
      "<h3><span id=\"Bibliography\">Bibliography</span></h3>\n",
      "\n",
      "<h2><span id=\"Further_reading\">Further reading</span></h2>\n",
      "<link rel=\"mw-deduplicated-inline-style\" href=\"mw-data:TemplateStyles:r1054258005\">\n",
      "<h2><span id=\"External_links\">External links</span></h2>\n",
      "\n",
      "<ul><li><span><span>Official website</span></span> <span typeof=\"mw:File/Frameless\"></span></li></ul>\n"
     ]
    }
   ],
   "source": [
    "print(retrieved_nodes[21].node.get_text())"
   ]
  },
  {
   "cell_type": "code",
   "execution_count": null,
   "metadata": {},
   "outputs": [],
   "source": []
  }
 ],
 "metadata": {
  "kernelspec": {
   "display_name": "llms",
   "language": "python",
   "name": "python3"
  },
  "language_info": {
   "codemirror_mode": {
    "name": "ipython",
    "version": 3
   },
   "file_extension": ".py",
   "mimetype": "text/x-python",
   "name": "python",
   "nbconvert_exporter": "python",
   "pygments_lexer": "ipython3",
   "version": "3.11.5"
  }
 },
 "nbformat": 4,
 "nbformat_minor": 2
}
