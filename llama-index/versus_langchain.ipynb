{
 "cells": [
  {
   "cell_type": "code",
   "execution_count": 1,
   "metadata": {},
   "outputs": [],
   "source": [
    "from langchain.chat_models import ChatOpenAI\n",
    "from langchain.prompts import PromptTemplate\n",
    "from langchain.document_loaders import TextLoader\n",
    "from langchain.text_splitter import RecursiveCharacterTextSplitter\n",
    "from langchain.vectorstores import FAISS\n",
    "from langchain.embeddings import OpenAIEmbeddings\n",
    "from operator import itemgetter\n",
    "from langchain.schema import StrOutputParser"
   ]
  },
  {
   "cell_type": "code",
   "execution_count": 2,
   "metadata": {},
   "outputs": [],
   "source": [
    "loader = TextLoader('data/sample.txt')\n",
    "document = loader.load()\n",
    "model = ChatOpenAI(model=\"gpt-3.5-turbo\", temperature=0.8)"
   ]
  },
  {
   "cell_type": "code",
   "execution_count": 3,
   "metadata": {},
   "outputs": [],
   "source": [
    "text_splitter = RecursiveCharacterTextSplitter(chunk_size=1000, chunk_overlap=50)\n",
    "documents = text_splitter.split_documents(document)"
   ]
  },
  {
   "cell_type": "code",
   "execution_count": 4,
   "metadata": {},
   "outputs": [],
   "source": [
    "db = FAISS.from_documents(documents, embedding=OpenAIEmbeddings())\n",
    "retriever = db.as_retriever()"
   ]
  },
  {
   "cell_type": "code",
   "execution_count": 5,
   "metadata": {},
   "outputs": [
    {
     "name": "stdout",
     "output_type": "stream",
     "text": [
      "The article discusses the LangChain AI framework and its impact on the AI ecosystem. It mentions that LangChain is becoming extremely popular and is causing harm to the development and code clarity of other AI frameworks. The article highlights criticisms of LangChain, including unnecessary abstraction, poor documentation, lack of customizability, difficulty debugging, and rapid updates. However, some commenters mention benefits such as easy component swapping and potential future improvements. Overall, sentiment towards LangChain for real production systems is negative, with many users reverting to coding LLM workflows directly. Nonetheless, its popularity makes it a safe choice for initial development.\n"
     ]
    }
   ],
   "source": [
    "template = \"\"\"You are an assistant who reads news and summarize for executives. Use the context given below to answer the question.\n",
    "If you don't have enough information to provid an answer, just say don't have enough information.\n",
    "Context:\n",
    "{context}\n",
    "\n",
    "Question:\n",
    "{question}\"\"\"\n",
    "prompt = PromptTemplate(input_variables=[\"context\", \"question\"], template=template)\n",
    "chain = {\"context\": itemgetter(\"context\"), \"question\": itemgetter(\"question\")} | prompt | model | StrOutputParser()\n",
    "response = chain.invoke({\"context\": itemgetter(\"question\") | retriever, \"question\": \"Give me the summary of the article\"})\n",
    "print(response)\n"
   ]
  },
  {
   "cell_type": "code",
   "execution_count": null,
   "metadata": {},
   "outputs": [],
   "source": []
  }
 ],
 "metadata": {
  "kernelspec": {
   "display_name": "llms",
   "language": "python",
   "name": "python3"
  },
  "language_info": {
   "codemirror_mode": {
    "name": "ipython",
    "version": 3
   },
   "file_extension": ".py",
   "mimetype": "text/x-python",
   "name": "python",
   "nbconvert_exporter": "python",
   "pygments_lexer": "ipython3",
   "version": "3.11.5"
  }
 },
 "nbformat": 4,
 "nbformat_minor": 2
}
